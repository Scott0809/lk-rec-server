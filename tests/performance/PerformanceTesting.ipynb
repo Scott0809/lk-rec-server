{
 "cells": [
  {
   "cell_type": "code",
   "execution_count": 1,
   "metadata": {},
   "outputs": [],
   "source": [
    "# %pip install aiohttp\n",
    "# %pip install mysql-connector-python\n",
    "# %pip install nest_asyncio\n",
    "# %pip install lenskit --upgrade\n",
    "# %pip install psycopg2"
   ]
  },
  {
   "cell_type": "code",
   "execution_count": 17,
   "metadata": {},
   "outputs": [],
   "source": [
    "import asyncio\n",
    "import aiohttp\n",
    "import json\n",
    "import sqlite3\n",
    "from sqlalchemy import create_engine, MetaData, Table, Column, Integer, String\n",
    "import urllib\n",
    "from pandas.io import sql\n",
    "from datetime import datetime\n",
    "import numpy as np\n",
    "import requests\n",
    "from time import perf_counter\n",
    "# import matplotlib.pyplot as plt\n",
    "# import seaborn as sns\n",
    "import pandas as pd\n",
    "# import nest_asyncio\n",
    "# nest_asyncio.apply()"
   ]
  },
  {
   "cell_type": "markdown",
   "metadata": {},
   "source": [
    "# Performance Testing"
   ]
  },
  {
   "cell_type": "code",
   "execution_count": 5,
   "metadata": {},
   "outputs": [],
   "source": [
    "class ConfigReader:\n",
    "    def get_value(self, key):\n",
    "        with open('config.json') as json_data_file:\n",
    "            data = json.load(json_data_file)\n",
    "        return data[key]"
   ]
  },
  {
   "cell_type": "code",
   "execution_count": 6,
   "metadata": {},
   "outputs": [],
   "source": [
    "class DbManager:\n",
    "    def __init__(self):\n",
    "        reader = ConfigReader()\n",
    "        db_connection = reader.get_value(\"db_connection\")        \n",
    "        self.conn_string = '{db_engine}{connector}://{user}:{password}@{server}/{database}?port={port}'.format(\n",
    "            db_engine=db_connection['db_engine'],\n",
    "            connector=db_connection['connector'],\n",
    "            user=db_connection['user'],\n",
    "            password=db_connection['password'],\n",
    "            server=db_connection['server'],\n",
    "            database=db_connection['database'],\n",
    "            port=db_connection['port'])\n",
    "\n",
    "    def get_users(self):\n",
    "        # postgres:\n",
    "#        return sql.read_sql(\"SELECT distinct \\\"user\\\" FROM rating;\", create_engine(self.conn_string))\n",
    "        # mysql:\n",
    "        return sql.read_sql(\"SELECT distinct user FROM rating;\", create_engine(self.conn_string))"
   ]
  },
  {
   "cell_type": "markdown",
   "metadata": {},
   "source": [
    "## Test recommendation endpoint"
   ]
  },
  {
   "cell_type": "markdown",
   "metadata": {},
   "source": [
    "### Semaphore performance"
   ]
  },
  {
   "cell_type": "code",
   "execution_count": 7,
   "metadata": {},
   "outputs": [],
   "source": [
    "import os\n",
    "throughputs = []\n",
    "\n",
    "def print_stats(times, time_taken_all, num_requests):\n",
    "    print(f'Total response time: {round(time_taken_all, 3)}')\n",
    "    print(f'Throughput (requests per second): {round(num_requests / time_taken_all, 3)}')\n",
    "    print(f'Peak response time: {round(max(times), 3)}')\n",
    "    print(f'Mean response time: {round(np.mean(times), 3)}')\n",
    "    print(f'99 percentile: {round(np.quantile(times, 0.99), 3)}')\n",
    "\n",
    "def plot_numbers(file_name):\n",
    "    resp_time_per_request = np.genfromtxt(file_name, delimiter=',')\n",
    "    plt.plot(resp_time_per_request)\n",
    "    plt.show()\n",
    "    \n",
    "def hist_numbers(file_name):\n",
    "    resp_time_per_request = np.genfromtxt(file_name, delimiter=',')\n",
    "    plt.hist(resp_time_per_request, bins='auto')\n",
    "    plt.show()\n",
    "\n",
    "# Predictions    \n",
    "async def get_preds_sem(num_sem, algo_pred, file_name=None, add_throughput=False):\n",
    "    times = []\n",
    "    sem = asyncio.Semaphore(num_sem)\n",
    "    tasks = []    \n",
    "    num_requests = len(n_rand_users)\n",
    "    print(f'Number of requests: {num_requests}')\n",
    "    start_preds = perf_counter()\n",
    "\n",
    "    async with aiohttp.ClientSession() as session:\n",
    "        for idx, row in n_rand_users.iterrows():\n",
    "            task = asyncio.ensure_future(get_user_preds_with_sem(row['user'], algo_pred, items, session, sem, times))\n",
    "            tasks.append(task)         \n",
    "\n",
    "        responses = await asyncio.gather(*tasks)\n",
    "        time_taken_all = perf_counter() - start_preds\n",
    "        print_stats(times, time_taken_all, num_requests)\n",
    "        \n",
    "        if file_name != None and file_name != '':\n",
    "            if os.path.exists(file_name):\n",
    "                os.remove(file_name)\n",
    "            np.savetxt(file_name, times, delimiter=',')\n",
    "        \n",
    "        if add_throughput:\n",
    "            throughputs.append(num_requests / time_taken_all)\n",
    "\n",
    "async def get_user_preds_with_sem(user, algo, items, session, sem, times):\n",
    "    async with sem:  # semaphore limits num of simultaneous downloads\n",
    "        return await get_user_preds_sem(user, algo, items, session, times)        \n",
    "        \n",
    "async def get_user_preds_sem(user, algo, items, session, times):\n",
    "    url = f'{base_url}/algorithms/{algo}/predictions?user_id={user}&items={items}'\n",
    "    start = perf_counter()\n",
    "    async with session.get(url) as resp:\n",
    "        data = await resp.json()    \n",
    "        time_taken = perf_counter() - start\n",
    "        times.append(time_taken)\n",
    "        \n",
    "# Recommendations\n",
    "async def get_recs_sem(num_sem, algo_rec, file_name=None, add_throughput=False):\n",
    "    times = []\n",
    "    sem = asyncio.Semaphore(num_sem)\n",
    "    tasks = []\n",
    "    num_requests = len(n_rand_users)\n",
    "    print(f'Number of requests: {num_requests}')\n",
    "    start_preds = perf_counter()\n",
    "\n",
    "    async with aiohttp.ClientSession() as session:\n",
    "        for idx, row in n_rand_users.iterrows():\n",
    "            task = asyncio.ensure_future(get_user_recs_with_sem(row['user'], algo_rec, n_recs, session, sem, times))\n",
    "            tasks.append(task)         \n",
    "\n",
    "        responses = await asyncio.gather(*tasks)\n",
    "        time_taken_all = perf_counter() - start_preds\n",
    "        print_stats(times, time_taken_all, num_requests)\n",
    "        \n",
    "        if file_name != None and file_name != '':\n",
    "            if os.path.exists(file_name):\n",
    "                os.remove(file_name)\n",
    "            np.savetxt(file_name, times, delimiter=',')\n",
    "        \n",
    "        if add_throughput:\n",
    "            throughputs.append(num_requests / time_taken_all)\n",
    "\n",
    "async def get_user_recs_with_sem(user, algo, n_recs, session, sem, times):\n",
    "    async with sem:  # semaphore limits num of simultaneous downloads\n",
    "        return await get_user_preds_sem(user, algo, n_recs, session, times)        \n",
    "        \n",
    "async def get_user_recs_sem(user, algo, n_recs, session, times):\n",
    "    url = f'{base_url}/algorithms/{algo}/recommendations?user_id={user}&num_recs={n_recs}'\n",
    "    start = perf_counter()\n",
    "    async with session.get(url) as resp:\n",
    "        data = await resp.json()    \n",
    "        time_taken = perf_counter() - start\n",
    "        times.append(time_taken)   "
   ]
  },
  {
   "cell_type": "markdown",
   "metadata": {},
   "source": [
    "### Gunicorn methods"
   ]
  },
  {
   "cell_type": "code",
   "execution_count": 8,
   "metadata": {},
   "outputs": [],
   "source": [
    "import subprocess\n",
    "import os\n",
    "\n",
    "def get_gunicorn_master_pid():\n",
    "    proc1 = subprocess.Popen(['ps', 'ax'], stdout=subprocess.PIPE)\n",
    "    proc2 = subprocess.Popen(['grep', 'gunicorn'], stdin=proc1.stdout,\n",
    "                             stdout=subprocess.PIPE, stderr=subprocess.PIPE)\n",
    "\n",
    "    proc1.stdout.close() # Allow proc1 to receive a SIGPIPE if proc2 exits.\n",
    "    out, err = proc2.communicate()\n",
    "    process_length = ConfigReader().get_value('process_length')\n",
    "    master_id = out[:process_length].decode('utf-8').replace(' ', '')\n",
    "    return master_id\n",
    "\n",
    "def add_workers(n):\n",
    "    master_id = get_gunicorn_master_pid()\n",
    "    for i in range(n):\n",
    "        os.system(f\"kill -s TTIN {master_id}\")\n",
    "        \n",
    "def remove_workers(n):\n",
    "    master_id = get_gunicorn_master_pid()\n",
    "    for i in range(n):\n",
    "        os.system(f\"kill -s TTOU {master_id}\")    "
   ]
  },
  {
   "cell_type": "markdown",
   "metadata": {},
   "source": [
    "### Get random users"
   ]
  },
  {
   "cell_type": "code",
   "execution_count": 9,
   "metadata": {},
   "outputs": [],
   "source": [
    "reader = ConfigReader()\n",
    "n_rand_users = num_requests = reader.get_value(\"num_requests\")\n",
    "dbManager = DbManager()\n",
    "db_users = dbManager.get_users()\n",
    "n_rand_users = db_users.sample(n=n_rand_users)"
   ]
  },
  {
   "cell_type": "markdown",
   "metadata": {},
   "source": [
    "### Get config values"
   ]
  },
  {
   "cell_type": "code",
   "execution_count": 10,
   "metadata": {},
   "outputs": [],
   "source": [
    "base_url = reader.get_value(\"rec_server_baese_url\")\n",
    "n_recs = reader.get_value(\"n_recs\")\n",
    "items = reader.get_value(\"items\")\n",
    "pred_algos = reader.get_value(\"pred_algos\")\n",
    "rec_algos = reader.get_value(\"rec_algos\")"
   ]
  },
  {
   "cell_type": "markdown",
   "metadata": {},
   "source": [
    "### Warm up phase"
   ]
  },
  {
   "cell_type": "code",
   "execution_count": 19,
   "metadata": {
    "scrolled": true
   },
   "outputs": [],
   "source": [
    "async def warm_up_async(current_algo=None, num_workers=24, display_logs=True):\n",
    "    warm_up_user = 1\n",
    "    times = []\n",
    "    tasks = []\n",
    "    async with aiohttp.ClientSession() as session:\n",
    "        for algo in pred_algos:\n",
    "            if current_algo is None or algo == current_algo:\n",
    "                for w in range(num_workers * 2):\n",
    "                    if display_logs:\n",
    "                        print(f'Calling {algo}. Worker number: {w + 1}')\n",
    "                    task = asyncio.ensure_future(get_user_preds_sem(warm_up_user, algo, items, session, times))\n",
    "                    tasks.append(task)\n",
    "        responses = await asyncio.gather(*tasks)"
   ]
  },
  {
   "cell_type": "code",
   "execution_count": 20,
   "metadata": {},
   "outputs": [],
   "source": [
    "def warm_up(current_algo=None, num_workers=24, display_logs=True):\n",
    "    loop = asyncio.get_event_loop()\n",
    "    future = asyncio.ensure_future(warm_up_async(current_algo, num_workers, display_logs))\n",
    "    loop.run_until_complete(future)"
   ]
  },
  {
   "cell_type": "code",
   "execution_count": 21,
   "metadata": {},
   "outputs": [
    {
     "name": "stdout",
     "output_type": "stream",
     "text": [
      "Calling bias. Worker number: 1\n",
      "Calling bias. Worker number: 2\n",
      "Calling bias. Worker number: 3\n",
      "Calling bias. Worker number: 4\n",
      "Calling bias. Worker number: 5\n",
      "Calling bias. Worker number: 6\n",
      "Calling bias. Worker number: 7\n",
      "Calling bias. Worker number: 8\n"
     ]
    }
   ],
   "source": [
    "warm_up(None, 4)"
   ]
  },
  {
   "cell_type": "markdown",
   "metadata": {},
   "source": [
    "### Call predict and recommend from server for canonical config"
   ]
  },
  {
   "cell_type": "markdown",
   "metadata": {},
   "source": [
    "#### Predictions for different algorithms"
   ]
  },
  {
   "cell_type": "code",
   "execution_count": 12,
   "metadata": {
    "scrolled": false
   },
   "outputs": [
    {
     "name": "stdout",
     "output_type": "stream",
     "text": [
      "Algorithm: bias\n",
      "Number of requests: 100\n",
      "Total response time: 3.861\n",
      "Throughput (requests per second): 25.903\n",
      "Peak response time: 0.358\n",
      "Mean response time: 0.295\n",
      "99 percentile: 0.357\n",
      "---------------------\n",
      "\n"
     ]
    }
   ],
   "source": [
    "for algo in pred_algos:\n",
    "    file_name = f'preds_{algo}_parallel_threads_8_workers_4_num_req_{num_requests}.csv'\n",
    "    loop = asyncio.get_event_loop()\n",
    "    print(f'Algorithm: {algo}')\n",
    "    future = asyncio.ensure_future(get_preds_sem(8, algo, file_name, True))\n",
    "    loop.run_until_complete(future)\n",
    "#    plot_numbers(file_name)\n",
    "#    hist_numbers(file_name)\n",
    "    print('---------------------')\n",
    "    print('')"
   ]
  },
  {
   "cell_type": "markdown",
   "metadata": {},
   "source": [
    "#### Recommendations"
   ]
  },
  {
   "cell_type": "code",
   "execution_count": 13,
   "metadata": {},
   "outputs": [
    {
     "name": "stdout",
     "output_type": "stream",
     "text": [
      "Algorithm: popular\n",
      "Number of requests: 100\n",
      "Total response time: 0.193\n",
      "Throughput (requests per second): 517.1\n",
      "Peak response time: 0.031\n",
      "Mean response time: 0.013\n",
      "99 percentile: 0.031\n",
      "---------------------\n",
      "\n"
     ]
    }
   ],
   "source": [
    "algo_rec = 'popular'\n",
    "print(f'Algorithm: {algo_rec}')\n",
    "file_name = f'recs_{algo_rec}_parallel_threads_8_workers_4_num_req_{num_requests}.csv'\n",
    "loop = asyncio.get_event_loop()\n",
    "future = asyncio.ensure_future(get_recs_sem(8, algo_rec, file_name))\n",
    "loop.run_until_complete(future)\n",
    "print('---------------------')\n",
    "print('')\n",
    "#plot_numbers(file_name)\n",
    "#hist_numbers(file_name)"
   ]
  },
  {
   "cell_type": "markdown",
   "metadata": {},
   "source": [
    "### Speedup Tests"
   ]
  },
  {
   "cell_type": "code",
   "execution_count": 25,
   "metadata": {},
   "outputs": [],
   "source": [
    "throughputs = []\n",
    "linear_speedup_algos = reader.get_value(\"linear_speedup_algos\")"
   ]
  },
  {
   "cell_type": "code",
   "execution_count": 15,
   "metadata": {},
   "outputs": [],
   "source": [
    "def call_server(file_name):\n",
    "    loop = asyncio.get_event_loop()\n",
    "    future = asyncio.ensure_future(get_preds_sem(8, current_algo, file_name, True))\n",
    "    loop.run_until_complete(future)\n",
    "#    plot_numbers(file_name)\n",
    "#    hist_numbers(file_name)"
   ]
  },
  {
   "cell_type": "code",
   "execution_count": 16,
   "metadata": {},
   "outputs": [],
   "source": [
    "workers_config = reader.get_value(\"workers_config\")\n",
    "inc_config = reader.get_value(\"inc_config\")"
   ]
  },
  {
   "cell_type": "code",
   "execution_count": 17,
   "metadata": {},
   "outputs": [
    {
     "name": "stdout",
     "output_type": "stream",
     "text": [
      "Algo: biasedmf, Workers: 1\n",
      "Number of requests: 100\n",
      "Total response time: 8.939\n",
      "Throughput (requests per second): 11.187\n",
      "Peak response time: 3.492\n",
      "Mean response time: 0.692\n",
      "99 percentile: 3.468\n",
      "add 1 workers\n",
      "------------------\n",
      "Algo: biasedmf, Workers: 2\n",
      "Number of requests: 100\n",
      "Total response time: 5.671\n",
      "Throughput (requests per second): 17.635\n",
      "Peak response time: 0.588\n",
      "Mean response time: 0.432\n",
      "99 percentile: 0.549\n",
      "add 2 workers\n",
      "------------------\n",
      "Algo: biasedmf, Workers: 4\n",
      "Number of requests: 100\n",
      "Total response time: 5.501\n",
      "Throughput (requests per second): 18.178\n",
      "Peak response time: 0.521\n",
      "Mean response time: 0.421\n",
      "99 percentile: 0.511\n",
      "add 4 workers\n",
      "------------------\n",
      "Algo: biasedmf, Workers: 8\n",
      "Number of requests: 100\n",
      "Total response time: 5.471\n",
      "Throughput (requests per second): 18.277\n",
      "Peak response time: 0.528\n",
      "Mean response time: 0.418\n",
      "99 percentile: 0.516\n",
      "add 4 workers\n",
      "------------------\n",
      "Algo: biasedmf, Workers: 12\n",
      "Number of requests: 100\n",
      "Total response time: 9.92\n",
      "Throughput (requests per second): 10.081\n",
      "Peak response time: 7.62\n",
      "Mean response time: 0.742\n",
      "99 percentile: 7.594\n",
      "add 4 workers\n",
      "------------------\n",
      "Algo: biasedmf, Workers: 16\n",
      "Number of requests: 100\n",
      "Total response time: 4.644\n",
      "Throughput (requests per second): 21.534\n",
      "Peak response time: 0.562\n",
      "Mean response time: 0.36\n",
      "99 percentile: 0.545\n",
      "add 8 workers\n",
      "------------------\n",
      "Algo: biasedmf, Workers: 24\n",
      "Number of requests: 100\n",
      "Total response time: 5.836\n",
      "Throughput (requests per second): 17.134\n",
      "Peak response time: 1.17\n",
      "Mean response time: 0.429\n",
      "99 percentile: 0.887\n",
      "------------------\n",
      "*******************************************************\n",
      "Algo: itemitem, Workers: 1\n",
      "Number of requests: 100\n",
      "Total response time: 10.001\n",
      "Throughput (requests per second): 9.999\n",
      "Peak response time: 5.328\n",
      "Mean response time: 0.784\n",
      "99 percentile: 5.169\n",
      "add 1 workers\n",
      "------------------\n",
      "Algo: itemitem, Workers: 2\n",
      "Number of requests: 100\n",
      "Total response time: 5.34\n",
      "Throughput (requests per second): 18.728\n",
      "Peak response time: 1.144\n",
      "Mean response time: 0.414\n",
      "99 percentile: 1.115\n",
      "add 2 workers\n",
      "------------------\n",
      "Algo: itemitem, Workers: 4\n",
      "Number of requests: 100\n",
      "Total response time: 5.612\n",
      "Throughput (requests per second): 17.82\n",
      "Peak response time: 1.261\n",
      "Mean response time: 0.433\n",
      "99 percentile: 1.01\n",
      "add 4 workers\n",
      "------------------\n",
      "Algo: itemitem, Workers: 8\n",
      "Number of requests: 100\n",
      "Total response time: 5.05\n",
      "Throughput (requests per second): 19.803\n",
      "Peak response time: 1.081\n",
      "Mean response time: 0.393\n",
      "99 percentile: 0.993\n",
      "add 4 workers\n",
      "------------------\n",
      "Algo: itemitem, Workers: 12\n",
      "Number of requests: 100\n",
      "Total response time: 4.464\n",
      "Throughput (requests per second): 22.404\n",
      "Peak response time: 1.205\n",
      "Mean response time: 0.348\n",
      "99 percentile: 0.848\n",
      "add 4 workers\n",
      "------------------\n",
      "Algo: itemitem, Workers: 16\n",
      "Number of requests: 100\n",
      "Total response time: 4.653\n",
      "Throughput (requests per second): 21.492\n",
      "Peak response time: 0.908\n",
      "Mean response time: 0.358\n",
      "99 percentile: 0.901\n",
      "add 8 workers\n",
      "------------------\n",
      "Algo: itemitem, Workers: 24\n",
      "Number of requests: 100\n",
      "Total response time: 4.838\n",
      "Throughput (requests per second): 20.671\n",
      "Peak response time: 1.099\n",
      "Mean response time: 0.376\n",
      "99 percentile: 0.947\n",
      "------------------\n",
      "*******************************************************\n"
     ]
    }
   ],
   "source": [
    "for current_algo in linear_speedup_algos:\n",
    "    i = 0\n",
    "    throughputs = []\n",
    "    remove_workers(3) # reduce from 4 workers to 1\n",
    "    for num_workers in workers_config:\n",
    "        print(f'Algo: {current_algo}, Workers: {num_workers}')\n",
    "        warm_up(current_algo, num_workers, display_logs=False)\n",
    "        file_name = f'preds_{current_algo}_parallel_threads_8_workers_{num_workers}_num_req_{num_requests}.csv'\n",
    "        call_server(file_name)\n",
    "        if (num_workers != workers_config[-1]):\n",
    "            print(f'add {inc_config[i]} workers')\n",
    "            add_workers(inc_config[i])\n",
    "        i += 1\n",
    "        print('------------------')\n",
    "    throughput_file_name_workers = f'throughput_single_multiple_workers_algo_{current_algo}.csv'\n",
    "    np.savetxt(throughput_file_name_workers, throughputs , delimiter=',')\n",
    "    remove_workers(workers_config[-1] - 4) # remove workers to get only 4 (default config)\n",
    "    print('*******************************************************')\n",
    "    "
   ]
  },
  {
   "cell_type": "markdown",
   "metadata": {},
   "source": [
    "#### Throughput by number of workers"
   ]
  },
  {
   "cell_type": "code",
   "execution_count": 18,
   "metadata": {},
   "outputs": [],
   "source": [
    "# throughput_file_name_workers = 'throughput_single_multiple_workers.csv'\n",
    "# np.savetxt(throughput_file_name_workers, throughputs , delimiter=',')"
   ]
  },
  {
   "cell_type": "code",
   "execution_count": 19,
   "metadata": {},
   "outputs": [],
   "source": [
    "# throughputs_workers_from_file = np.genfromtxt(throughput_file_name_workers, delimiter=',')\n",
    "# workers = [1, 2, 4, 8, 16]\n",
    "# y_pos = np.arange(len(throughputs_workers_from_file))\n",
    "\n",
    "# plt.bar(y_pos, throughputs_workers_from_file, align='center', alpha=0.5)\n",
    "# plt.xticks(y_pos, workers)\n",
    "# plt.ylabel('Throughput')\n",
    "# plt.title('Throughput by workers')\n",
    "\n",
    "# plt.show()"
   ]
  },
  {
   "cell_type": "code",
   "execution_count": null,
   "metadata": {},
   "outputs": [],
   "source": []
  },
  {
   "cell_type": "markdown",
   "metadata": {},
   "source": [
    "### Lenskit"
   ]
  },
  {
   "cell_type": "code",
   "execution_count": 41,
   "metadata": {},
   "outputs": [],
   "source": [
    "import sys\n",
    "import math\n",
    "from binpickle import BinPickleFile\n",
    "from pathlib import Path\n",
    "\n",
    "directory_path = 'models'\n",
    "\n",
    "def exists_model_file(algo):\n",
    "    full_file_name = Path(directory_path) / algo\n",
    "    if full_file_name.exists():\n",
    "        return True\n",
    "    else:\n",
    "        return False\n",
    "\n",
    "def load_for_shared_mem(file_name):\n",
    "    full_file_name = Path(directory_path) / file_name\n",
    "\n",
    "    binpickle_file = BinPickleFile(full_file_name, direct=True)\n",
    "    model = binpickle_file.load()\n",
    "    return model\n",
    "\n",
    "def get_predictions_from_model(model, user, items):\n",
    "    try:\n",
    "        results = []\n",
    "        df_preds = model.predict_for_user(user, items)\n",
    "        for index, value in df_preds.iteritems():\n",
    "            if not math.isnan(value):\n",
    "                results.append({'item': index, 'score': value})\n",
    "        return results\n",
    "    except:\n",
    "        print(f\"Unexpected preds error for user: {user}, with items: {items}. Error: {sys.exc_info()[0]}\")\n",
    "        raise\n",
    "        \n",
    "\n",
    "# Predictions    \n",
    "async def get_preds_threads_lkpy(num_sem, model, file_name=None, add_throughput=False):\n",
    "    times = []\n",
    "    sem = asyncio.Semaphore(num_sem)\n",
    "    tasks = []    \n",
    "    num_requests = len(n_rand_users)\n",
    "    print(f'Number of requests: {num_requests}')\n",
    "    start_preds = perf_counter()\n",
    "\n",
    "    async with aiohttp.ClientSession() as session:\n",
    "        for idx, row in n_rand_users.iterrows():\n",
    "            task = asyncio.ensure_future(get_user_preds_with_threads_lkpy(row['user'], items, session, sem, times, model))\n",
    "            tasks.append(task)         \n",
    "\n",
    "        responses = await asyncio.gather(*tasks)\n",
    "        time_taken_all = perf_counter() - start_preds\n",
    "        print_stats(times, time_taken_all, num_requests)\n",
    "        \n",
    "        if file_name != None and file_name != '':\n",
    "            if os.path.exists(file_name):\n",
    "                os.remove(file_name)\n",
    "            np.asarray(times)\n",
    "            np.savetxt(file_name, times, delimiter=',')\n",
    "        \n",
    "        if add_throughput:\n",
    "            throughputs.append(num_requests / time_taken_all)\n",
    "\n",
    "async def get_user_preds_with_threads_lkpy(user, items, session, sem, times, model):\n",
    "    async with sem:  # semaphore limits num of simultaneous downloads\n",
    "        return await get_user_preds_threads_lkpy(user, items, session, times, model)        \n",
    "        \n",
    "async def get_user_preds_threads_lkpy(user, items, session, times, model):\n",
    "    try:\n",
    "        start = perf_counter()\n",
    "        results = []\n",
    "        df_preds = model.predict_for_user(user, items.split(','))\n",
    "        for index, value in df_preds.iteritems():\n",
    "            if not math.isnan(value):\n",
    "                results.append({'item': index, 'score': value})\n",
    "                \n",
    "        time_taken = perf_counter() - start\n",
    "        times.append(time_taken)\n",
    "        return results\n",
    "    except:\n",
    "        print(f\"Unexpected preds error for user: {user}, with items: {items}. Error: {sys.exc_info()[0]}\")\n",
    "        raise        "
   ]
  },
  {
   "cell_type": "markdown",
   "metadata": {},
   "source": [
    "#### Train models"
   ]
  },
  {
   "cell_type": "code",
   "execution_count": 42,
   "metadata": {
    "scrolled": true
   },
   "outputs": [],
   "source": [
    "import train_save_model\n",
    "lk_recserver_algos = reader.get_value('lk_recserver_algos')\n",
    "lk_recserver_algos_not_created = []\n",
    "for a in lk_recserver_algos:\n",
    "    if not exists_model_file(f'{a}.bpk'):\n",
    "        lk_recserver_algos_not_created.append(a)\n",
    "if len(lk_recserver_algos_not_created) > 0:\n",
    "    train_save_model.save_models(lk_recserver_algos_not_created)"
   ]
  },
  {
   "cell_type": "code",
   "execution_count": 35,
   "metadata": {},
   "outputs": [
    {
     "name": "stdout",
     "output_type": "stream",
     "text": [
      "Algo: bias\n",
      "Lenskit performance:\n",
      "Number of requests: 100\n",
      "Total response time: 0.213\n",
      "Throughput (requests per second): 469.643\n",
      "Peak response time: 0.003\n",
      "Mean response time: 0.002\n",
      "99 percentile: 0.003\n",
      "------------------\n",
      "Recommendation server performance:\n",
      "Number of requests: 100\n",
      "Total response time: 2.947\n",
      "Throughput (requests per second): 33.93\n",
      "Peak response time: 0.318\n",
      "Mean response time: 0.23\n",
      "99 percentile: 0.299\n",
      "*******************************************************\n",
      "Algo: biasedmf\n",
      "Lenskit performance:\n",
      "Number of requests: 100\n",
      "Total response time: 0.24\n",
      "Throughput (requests per second): 416.87\n",
      "Peak response time: 0.004\n",
      "Mean response time: 0.002\n",
      "99 percentile: 0.004\n",
      "------------------\n",
      "Recommendation server performance:\n",
      "Number of requests: 100\n",
      "Total response time: 3.094\n",
      "Throughput (requests per second): 32.319\n",
      "Peak response time: 0.341\n",
      "Mean response time: 0.239\n",
      "99 percentile: 0.288\n",
      "*******************************************************\n",
      "Algo: itemitem\n",
      "Lenskit performance:\n",
      "Number of requests: 100\n",
      "Total response time: 0.058\n",
      "Throughput (requests per second): 1725.32\n",
      "Peak response time: 0.001\n",
      "Mean response time: 0.0\n",
      "99 percentile: 0.001\n",
      "------------------\n",
      "Recommendation server performance:\n",
      "Number of requests: 100\n",
      "Total response time: 3.449\n",
      "Throughput (requests per second): 28.996\n",
      "Peak response time: 0.696\n",
      "Mean response time: 0.262\n",
      "99 percentile: 0.464\n",
      "*******************************************************\n"
     ]
    }
   ],
   "source": [
    "for lk_recserver_algo in lk_recserver_algos:\n",
    "    print(f'Algo: {lk_recserver_algo}')\n",
    "    print('Lenskit performance:')\n",
    "    model = load_for_shared_mem(f'{lk_recserver_algo}.bpk')\n",
    "    file_name = f'lkpy_parallel_threads_8_{lk_recserver_algo}__num_req_{num_requests}.csv'\n",
    "    loop = asyncio.get_event_loop()\n",
    "    future = asyncio.ensure_future(get_preds_threads_lkpy(8, model, file_name))\n",
    "    loop.run_until_complete(future)\n",
    "    #plot_numbers(file_name)\n",
    "    #hist_numbers(file_name)\n",
    "    print('------------------')    \n",
    "    warm_up(lk_recserver_algo, 8, False)\n",
    "    print('Recommendation server performance:')\n",
    "    file_name = f'preds_{lk_recserver_algo}_parallel_threads_8_workers_4_num_req_{num_requests}.csv'\n",
    "    loop = asyncio.get_event_loop()\n",
    "    future = asyncio.ensure_future(get_preds_sem(8, lk_recserver_algo, file_name, True))\n",
    "    loop.run_until_complete(future)\n",
    "    #plot_numbers(file_name)\n",
    "    #hist_numbers(file_name)\n",
    "    print('*******************************************************')    \n"
   ]
  },
  {
   "cell_type": "code",
   "execution_count": null,
   "metadata": {},
   "outputs": [],
   "source": []
  },
  {
   "cell_type": "code",
   "execution_count": null,
   "metadata": {},
   "outputs": [],
   "source": []
  }
 ],
 "metadata": {
  "kernelspec": {
   "display_name": "Python 3",
   "language": "python",
   "name": "python3"
  },
  "language_info": {
   "codemirror_mode": {
    "name": "ipython",
    "version": 3
   },
   "file_extension": ".py",
   "mimetype": "text/x-python",
   "name": "python",
   "nbconvert_exporter": "python",
   "pygments_lexer": "ipython3",
   "version": "3.7.7"
  }
 },
 "nbformat": 4,
 "nbformat_minor": 4
}
