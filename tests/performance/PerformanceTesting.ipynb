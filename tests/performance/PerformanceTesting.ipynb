{
 "cells": [
  {
   "cell_type": "code",
   "execution_count": 1,
   "metadata": {},
   "outputs": [],
   "source": [
    "# %pip install aiohttp\n",
    "# %pip install mysql-connector-python\n",
    "# %pip install nest_asyncio\n",
    "# %pip install lenskit --upgrade\n",
    "# %pip install psycopg2"
   ]
  },
  {
   "cell_type": "code",
   "execution_count": 2,
   "metadata": {},
   "outputs": [],
   "source": [
    "import asyncio\n",
    "import aiohttp\n",
    "import json\n",
    "import sqlite3\n",
    "from sqlalchemy import create_engine, MetaData, Table, Column, Integer, String\n",
    "import urllib\n",
    "from pandas.io import sql\n",
    "from datetime import datetime\n",
    "import numpy as np\n",
    "import requests\n",
    "from time import perf_counter\n",
    "import matplotlib.pyplot as plt\n",
    "import seaborn as sns\n",
    "import pandas as pd\n",
    "import nest_asyncio\n",
    "nest_asyncio.apply()"
   ]
  },
  {
   "cell_type": "markdown",
   "metadata": {},
   "source": [
    "# Performance Testing"
   ]
  },
  {
   "cell_type": "code",
   "execution_count": 3,
   "metadata": {},
   "outputs": [],
   "source": [
    "class ConfigReader:\n",
    "    def get_value(self, key):\n",
    "        with open('config.json') as json_data_file:\n",
    "            data = json.load(json_data_file)\n",
    "        return data[key]"
   ]
  },
  {
   "cell_type": "code",
   "execution_count": 4,
   "metadata": {},
   "outputs": [],
   "source": [
    "class DbManager:\n",
    "    def __init__(self):\n",
    "        reader = ConfigReader()\n",
    "        db_connection = reader.get_value(\"db_connection\")        \n",
    "        self.conn_string = '{db_engine}{connector}://{user}:{password}@{server}/{database}'.format(\n",
    "            db_engine=db_connection['db_engine'],\n",
    "            connector=db_connection['connector'],\n",
    "            user=db_connection['user'],\n",
    "            password=db_connection['password'],\n",
    "            server=db_connection['server'],\n",
    "            database=db_connection['database'])\n",
    "\n",
    "    def get_users(self):\n",
    "        return sql.read_sql(\"SELECT distinct user FROM rating;\", create_engine(self.conn_string))"
   ]
  },
  {
   "cell_type": "markdown",
   "metadata": {},
   "source": [
    "## Get random users"
   ]
  },
  {
   "cell_type": "code",
   "execution_count": 5,
   "metadata": {},
   "outputs": [],
   "source": [
    "n_rand_users = num_requests = 1000\n",
    "dbManager = DbManager()\n",
    "db_users = dbManager.get_users()\n",
    "n_rand_users = db_users.sample(n=n_rand_users)"
   ]
  },
  {
   "cell_type": "markdown",
   "metadata": {},
   "source": [
    "## Test recommendation endpoint"
   ]
  },
  {
   "cell_type": "code",
   "execution_count": 6,
   "metadata": {},
   "outputs": [],
   "source": [
    "base_url = 'http://127.0.0.1:8000'\n",
    "#algo_rec = 'popular'\n",
    "#algo_pred = 'itemitem' # 'biasedmf'\n",
    "n_recs = 5\n",
    "items = \"10,20,30,40,50\"\n",
    "pred_algos = ['bias','itemitem','useruser','biasedmf','implicitmf','funksvd']\n",
    "rec_algos = ['popular']"
   ]
  },
  {
   "cell_type": "markdown",
   "metadata": {},
   "source": [
    "### Semaphore performance"
   ]
  },
  {
   "cell_type": "code",
   "execution_count": 7,
   "metadata": {},
   "outputs": [],
   "source": [
    "import os\n",
    "throughputs = []\n",
    "\n",
    "def print_stats(times, time_taken_all, num_requests):\n",
    "    print(f'Total response time: {time_taken_all}')\n",
    "    print(f'Throughput (requests per second): {num_requests / time_taken_all}')\n",
    "    print(f'Peak response time: {max(times)}')\n",
    "    print(f'Mean response time: {np.mean(times)}')\n",
    "    print(f'99 percentile: {np.quantile(times, 0.99)}')\n",
    "\n",
    "def plot_numbers(file_name):\n",
    "    resp_time_per_request = np.genfromtxt(file_name, delimiter=',')\n",
    "    plt.plot(resp_time_per_request)\n",
    "    plt.show()\n",
    "    \n",
    "def hist_numbers(file_name):\n",
    "    resp_time_per_request = np.genfromtxt(file_name, delimiter=',')\n",
    "    plt.hist(resp_time_per_request, bins='auto')\n",
    "    plt.show()\n",
    "\n",
    "# Predictions    \n",
    "async def get_preds_sem(num_sem, algo_pred, file_name=None, add_throughput=False):\n",
    "    times = []\n",
    "    sem = asyncio.Semaphore(num_sem)\n",
    "    tasks = []    \n",
    "    num_requests = len(n_rand_users)\n",
    "    print(f'Number of requests: {num_requests}')\n",
    "    start_preds = perf_counter()\n",
    "\n",
    "    async with aiohttp.ClientSession() as session:\n",
    "        for idx, row in n_rand_users.iterrows():\n",
    "            task = asyncio.ensure_future(get_user_preds_with_sem(row['user'], algo_pred, items, session, sem, times))\n",
    "            tasks.append(task)         \n",
    "\n",
    "        responses = await asyncio.gather(*tasks)\n",
    "        time_taken_all = perf_counter() - start_preds\n",
    "        print_stats(times, time_taken_all, num_requests)\n",
    "        \n",
    "        if file_name != None and file_name != '':\n",
    "            if os.path.exists(file_name):\n",
    "                os.remove(file_name)\n",
    "            np.savetxt(file_name, times, delimiter=',')\n",
    "        \n",
    "        if add_throughput:\n",
    "            throughputs.append(num_requests / time_taken_all)\n",
    "\n",
    "async def get_user_preds_with_sem(user, algo, items, session, sem, times):\n",
    "    async with sem:  # semaphore limits num of simultaneous downloads\n",
    "        return await get_user_preds_sem(user, algo, items, session, times)        \n",
    "        \n",
    "async def get_user_preds_sem(user, algo, items, session, times):\n",
    "    url = f'{base_url}/algorithms/{algo}/predictions?user_id={user}&items={items}'\n",
    "    start = perf_counter()\n",
    "    async with session.get(url) as resp:\n",
    "        data = await resp.json()    \n",
    "        time_taken = perf_counter() - start\n",
    "        times.append(time_taken)\n",
    "        \n",
    "# Recommendations\n",
    "async def get_recs_sem(num_sem, algo_rec, file_name=None, add_throughput=False):\n",
    "    times = []\n",
    "    sem = asyncio.Semaphore(num_sem)\n",
    "    tasks = []\n",
    "    num_requests = len(n_rand_users)\n",
    "    print(f'Number of requests: {num_requests}')\n",
    "    start_preds = perf_counter()\n",
    "\n",
    "    async with aiohttp.ClientSession() as session:\n",
    "        for idx, row in n_rand_users.iterrows():\n",
    "            task = asyncio.ensure_future(get_user_recs_with_sem(row['user'], algo_rec, n_recs, session, sem, times))\n",
    "            tasks.append(task)         \n",
    "\n",
    "        responses = await asyncio.gather(*tasks)\n",
    "        time_taken_all = perf_counter() - start_preds\n",
    "        print_stats(times, time_taken_all, num_requests)\n",
    "        \n",
    "        if file_name != None and file_name != '':\n",
    "            if os.path.exists(file_name):\n",
    "                os.remove(file_name)\n",
    "            np.savetxt(file_name, times, delimiter=',')\n",
    "        \n",
    "        if add_throughput:\n",
    "            throughputs.append(num_requests / time_taken_all)\n",
    "\n",
    "async def get_user_recs_with_sem(user, algo, n_recs, session, sem, times):\n",
    "    async with sem:  # semaphore limits num of simultaneous downloads\n",
    "        return await get_user_preds_sem(user, algo, n_recs, session, times)        \n",
    "        \n",
    "async def get_user_recs_sem(user, algo, n_recs, session, times):\n",
    "    url = f'{base_url}/algorithms/{algo}/recommendations?user_id={user}&num_recs={n_recs}'\n",
    "    start = perf_counter()\n",
    "    async with session.get(url) as resp:\n",
    "        data = await resp.json()    \n",
    "        time_taken = perf_counter() - start\n",
    "        times.append(time_taken)   "
   ]
  },
  {
   "cell_type": "markdown",
   "metadata": {},
   "source": [
    "### Warm up phase"
   ]
  },
  {
   "cell_type": "code",
   "execution_count": 16,
   "metadata": {
    "scrolled": true
   },
   "outputs": [],
   "source": [
    "async def warm_up_async(current_algo=None, num_workers=16, display_logs=True):\n",
    "    warm_up_user = 1\n",
    "    times = []\n",
    "    tasks = []\n",
    "    async with aiohttp.ClientSession() as session:\n",
    "        for algo in pred_algos:\n",
    "            if current_algo is None or algo == current_algo:\n",
    "                for w in range(num_workers * 2):\n",
    "                    if display_logs:\n",
    "                        print(f'Calling {algo}. Worker number: {w + 1}')\n",
    "                    task = asyncio.ensure_future(get_user_preds_sem(warm_up_user, algo, items, session, times))\n",
    "                    tasks.append(task)\n",
    "        responses = await asyncio.gather(*tasks)"
   ]
  },
  {
   "cell_type": "code",
   "execution_count": 17,
   "metadata": {},
   "outputs": [],
   "source": [
    "def warm_up(current_algo=None, num_workers=16, display_logs=True):\n",
    "    loop = asyncio.get_event_loop()\n",
    "    future = asyncio.ensure_future(warm_up_async(current_algo, num_workers, display_logs))\n",
    "    loop.run_until_complete(future)"
   ]
  },
  {
   "cell_type": "code",
   "execution_count": 54,
   "metadata": {},
   "outputs": [
    {
     "name": "stdout",
     "output_type": "stream",
     "text": [
      "Calling bias. Worker number: 1\n",
      "Calling bias. Worker number: 2\n",
      "Calling bias. Worker number: 3\n",
      "Calling bias. Worker number: 4\n",
      "Calling bias. Worker number: 5\n",
      "Calling bias. Worker number: 6\n",
      "Calling bias. Worker number: 7\n",
      "Calling bias. Worker number: 8\n",
      "Calling bias. Worker number: 9\n",
      "Calling bias. Worker number: 10\n",
      "Calling bias. Worker number: 11\n",
      "Calling bias. Worker number: 12\n",
      "Calling bias. Worker number: 13\n",
      "Calling bias. Worker number: 14\n",
      "Calling bias. Worker number: 15\n",
      "Calling bias. Worker number: 16\n",
      "Calling bias. Worker number: 17\n",
      "Calling bias. Worker number: 18\n",
      "Calling bias. Worker number: 19\n",
      "Calling bias. Worker number: 20\n",
      "Calling bias. Worker number: 21\n",
      "Calling bias. Worker number: 22\n",
      "Calling bias. Worker number: 23\n",
      "Calling bias. Worker number: 24\n",
      "Calling bias. Worker number: 25\n",
      "Calling bias. Worker number: 26\n",
      "Calling bias. Worker number: 27\n",
      "Calling bias. Worker number: 28\n",
      "Calling bias. Worker number: 29\n",
      "Calling bias. Worker number: 30\n",
      "Calling bias. Worker number: 31\n",
      "Calling bias. Worker number: 32\n",
      "Calling itemitem. Worker number: 1\n",
      "Calling itemitem. Worker number: 2\n",
      "Calling itemitem. Worker number: 3\n",
      "Calling itemitem. Worker number: 4\n",
      "Calling itemitem. Worker number: 5\n",
      "Calling itemitem. Worker number: 6\n",
      "Calling itemitem. Worker number: 7\n",
      "Calling itemitem. Worker number: 8\n",
      "Calling itemitem. Worker number: 9\n",
      "Calling itemitem. Worker number: 10\n",
      "Calling itemitem. Worker number: 11\n",
      "Calling itemitem. Worker number: 12\n",
      "Calling itemitem. Worker number: 13\n",
      "Calling itemitem. Worker number: 14\n",
      "Calling itemitem. Worker number: 15\n",
      "Calling itemitem. Worker number: 16\n",
      "Calling itemitem. Worker number: 17\n",
      "Calling itemitem. Worker number: 18\n",
      "Calling itemitem. Worker number: 19\n",
      "Calling itemitem. Worker number: 20\n",
      "Calling itemitem. Worker number: 21\n",
      "Calling itemitem. Worker number: 22\n",
      "Calling itemitem. Worker number: 23\n",
      "Calling itemitem. Worker number: 24\n",
      "Calling itemitem. Worker number: 25\n",
      "Calling itemitem. Worker number: 26\n",
      "Calling itemitem. Worker number: 27\n",
      "Calling itemitem. Worker number: 28\n",
      "Calling itemitem. Worker number: 29\n",
      "Calling itemitem. Worker number: 30\n",
      "Calling itemitem. Worker number: 31\n",
      "Calling itemitem. Worker number: 32\n",
      "Calling useruser. Worker number: 1\n",
      "Calling useruser. Worker number: 2\n",
      "Calling useruser. Worker number: 3\n",
      "Calling useruser. Worker number: 4\n",
      "Calling useruser. Worker number: 5\n",
      "Calling useruser. Worker number: 6\n",
      "Calling useruser. Worker number: 7\n",
      "Calling useruser. Worker number: 8\n",
      "Calling useruser. Worker number: 9\n",
      "Calling useruser. Worker number: 10\n",
      "Calling useruser. Worker number: 11\n",
      "Calling useruser. Worker number: 12\n",
      "Calling useruser. Worker number: 13\n",
      "Calling useruser. Worker number: 14\n",
      "Calling useruser. Worker number: 15\n",
      "Calling useruser. Worker number: 16\n",
      "Calling useruser. Worker number: 17\n",
      "Calling useruser. Worker number: 18\n",
      "Calling useruser. Worker number: 19\n",
      "Calling useruser. Worker number: 20\n",
      "Calling useruser. Worker number: 21\n",
      "Calling useruser. Worker number: 22\n",
      "Calling useruser. Worker number: 23\n",
      "Calling useruser. Worker number: 24\n",
      "Calling useruser. Worker number: 25\n",
      "Calling useruser. Worker number: 26\n",
      "Calling useruser. Worker number: 27\n",
      "Calling useruser. Worker number: 28\n",
      "Calling useruser. Worker number: 29\n",
      "Calling useruser. Worker number: 30\n",
      "Calling useruser. Worker number: 31\n",
      "Calling useruser. Worker number: 32\n",
      "Calling biasedmf. Worker number: 1\n",
      "Calling biasedmf. Worker number: 2\n",
      "Calling biasedmf. Worker number: 3\n",
      "Calling biasedmf. Worker number: 4\n",
      "Calling biasedmf. Worker number: 5\n",
      "Calling biasedmf. Worker number: 6\n",
      "Calling biasedmf. Worker number: 7\n",
      "Calling biasedmf. Worker number: 8\n",
      "Calling biasedmf. Worker number: 9\n",
      "Calling biasedmf. Worker number: 10\n",
      "Calling biasedmf. Worker number: 11\n",
      "Calling biasedmf. Worker number: 12\n",
      "Calling biasedmf. Worker number: 13\n",
      "Calling biasedmf. Worker number: 14\n",
      "Calling biasedmf. Worker number: 15\n",
      "Calling biasedmf. Worker number: 16\n",
      "Calling biasedmf. Worker number: 17\n",
      "Calling biasedmf. Worker number: 18\n",
      "Calling biasedmf. Worker number: 19\n",
      "Calling biasedmf. Worker number: 20\n",
      "Calling biasedmf. Worker number: 21\n",
      "Calling biasedmf. Worker number: 22\n",
      "Calling biasedmf. Worker number: 23\n",
      "Calling biasedmf. Worker number: 24\n",
      "Calling biasedmf. Worker number: 25\n",
      "Calling biasedmf. Worker number: 26\n",
      "Calling biasedmf. Worker number: 27\n",
      "Calling biasedmf. Worker number: 28\n",
      "Calling biasedmf. Worker number: 29\n",
      "Calling biasedmf. Worker number: 30\n",
      "Calling biasedmf. Worker number: 31\n",
      "Calling biasedmf. Worker number: 32\n",
      "Calling implicitmf. Worker number: 1\n",
      "Calling implicitmf. Worker number: 2\n",
      "Calling implicitmf. Worker number: 3\n",
      "Calling implicitmf. Worker number: 4\n",
      "Calling implicitmf. Worker number: 5\n",
      "Calling implicitmf. Worker number: 6\n",
      "Calling implicitmf. Worker number: 7\n",
      "Calling implicitmf. Worker number: 8\n",
      "Calling implicitmf. Worker number: 9\n",
      "Calling implicitmf. Worker number: 10\n",
      "Calling implicitmf. Worker number: 11\n",
      "Calling implicitmf. Worker number: 12\n",
      "Calling implicitmf. Worker number: 13\n",
      "Calling implicitmf. Worker number: 14\n",
      "Calling implicitmf. Worker number: 15\n",
      "Calling implicitmf. Worker number: 16\n",
      "Calling implicitmf. Worker number: 17\n",
      "Calling implicitmf. Worker number: 18\n",
      "Calling implicitmf. Worker number: 19\n",
      "Calling implicitmf. Worker number: 20\n",
      "Calling implicitmf. Worker number: 21\n",
      "Calling implicitmf. Worker number: 22\n",
      "Calling implicitmf. Worker number: 23\n",
      "Calling implicitmf. Worker number: 24\n",
      "Calling implicitmf. Worker number: 25\n",
      "Calling implicitmf. Worker number: 26\n",
      "Calling implicitmf. Worker number: 27\n",
      "Calling implicitmf. Worker number: 28\n",
      "Calling implicitmf. Worker number: 29\n",
      "Calling implicitmf. Worker number: 30\n",
      "Calling implicitmf. Worker number: 31\n",
      "Calling implicitmf. Worker number: 32\n",
      "Calling funksvd. Worker number: 1\n",
      "Calling funksvd. Worker number: 2\n",
      "Calling funksvd. Worker number: 3\n",
      "Calling funksvd. Worker number: 4\n",
      "Calling funksvd. Worker number: 5\n",
      "Calling funksvd. Worker number: 6\n",
      "Calling funksvd. Worker number: 7\n",
      "Calling funksvd. Worker number: 8\n",
      "Calling funksvd. Worker number: 9\n",
      "Calling funksvd. Worker number: 10\n",
      "Calling funksvd. Worker number: 11\n",
      "Calling funksvd. Worker number: 12\n",
      "Calling funksvd. Worker number: 13\n",
      "Calling funksvd. Worker number: 14\n",
      "Calling funksvd. Worker number: 15\n",
      "Calling funksvd. Worker number: 16\n",
      "Calling funksvd. Worker number: 17\n",
      "Calling funksvd. Worker number: 18\n",
      "Calling funksvd. Worker number: 19\n",
      "Calling funksvd. Worker number: 20\n",
      "Calling funksvd. Worker number: 21\n",
      "Calling funksvd. Worker number: 22\n",
      "Calling funksvd. Worker number: 23\n",
      "Calling funksvd. Worker number: 24\n",
      "Calling funksvd. Worker number: 25\n",
      "Calling funksvd. Worker number: 26\n",
      "Calling funksvd. Worker number: 27\n",
      "Calling funksvd. Worker number: 28\n",
      "Calling funksvd. Worker number: 29\n",
      "Calling funksvd. Worker number: 30\n",
      "Calling funksvd. Worker number: 31\n",
      "Calling funksvd. Worker number: 32\n"
     ]
    },
    {
     "ename": "KeyboardInterrupt",
     "evalue": "",
     "output_type": "error",
     "traceback": [
      "\u001b[0;31m---------------------------------------------------------------------------\u001b[0m",
      "\u001b[0;31mKeyboardInterrupt\u001b[0m                         Traceback (most recent call last)",
      "\u001b[0;32m<ipython-input-54-b2b0122d156c>\u001b[0m in \u001b[0;36m<module>\u001b[0;34m\u001b[0m\n\u001b[0;32m----> 1\u001b[0;31m \u001b[0mwarm_up\u001b[0m\u001b[0;34m(\u001b[0m\u001b[0;34m)\u001b[0m\u001b[0;34m\u001b[0m\u001b[0;34m\u001b[0m\u001b[0m\n\u001b[0m",
      "\u001b[0;32m<ipython-input-17-8e815321901c>\u001b[0m in \u001b[0;36mwarm_up\u001b[0;34m(current_algo, num_workers, display_logs)\u001b[0m\n\u001b[1;32m      2\u001b[0m     \u001b[0mloop\u001b[0m \u001b[0;34m=\u001b[0m \u001b[0masyncio\u001b[0m\u001b[0;34m.\u001b[0m\u001b[0mget_event_loop\u001b[0m\u001b[0;34m(\u001b[0m\u001b[0;34m)\u001b[0m\u001b[0;34m\u001b[0m\u001b[0;34m\u001b[0m\u001b[0m\n\u001b[1;32m      3\u001b[0m     \u001b[0mfuture\u001b[0m \u001b[0;34m=\u001b[0m \u001b[0masyncio\u001b[0m\u001b[0;34m.\u001b[0m\u001b[0mensure_future\u001b[0m\u001b[0;34m(\u001b[0m\u001b[0mwarm_up_async\u001b[0m\u001b[0;34m(\u001b[0m\u001b[0mcurrent_algo\u001b[0m\u001b[0;34m,\u001b[0m \u001b[0mnum_workers\u001b[0m\u001b[0;34m,\u001b[0m \u001b[0mdisplay_logs\u001b[0m\u001b[0;34m)\u001b[0m\u001b[0;34m)\u001b[0m\u001b[0;34m\u001b[0m\u001b[0;34m\u001b[0m\u001b[0m\n\u001b[0;32m----> 4\u001b[0;31m     \u001b[0mloop\u001b[0m\u001b[0;34m.\u001b[0m\u001b[0mrun_until_complete\u001b[0m\u001b[0;34m(\u001b[0m\u001b[0mfuture\u001b[0m\u001b[0;34m)\u001b[0m\u001b[0;34m\u001b[0m\u001b[0;34m\u001b[0m\u001b[0m\n\u001b[0m",
      "\u001b[0;32m~/anaconda3/lib/python3.7/site-packages/nest_asyncio.py\u001b[0m in \u001b[0;36mrun_until_complete\u001b[0;34m(self, future)\u001b[0m\n\u001b[1;32m     87\u001b[0m                 \u001b[0mf\u001b[0m\u001b[0;34m.\u001b[0m\u001b[0m_log_destroy_pending\u001b[0m \u001b[0;34m=\u001b[0m \u001b[0;32mFalse\u001b[0m\u001b[0;34m\u001b[0m\u001b[0;34m\u001b[0m\u001b[0m\n\u001b[1;32m     88\u001b[0m             \u001b[0;32mwhile\u001b[0m \u001b[0;32mnot\u001b[0m \u001b[0mf\u001b[0m\u001b[0;34m.\u001b[0m\u001b[0mdone\u001b[0m\u001b[0;34m(\u001b[0m\u001b[0;34m)\u001b[0m\u001b[0;34m:\u001b[0m\u001b[0;34m\u001b[0m\u001b[0;34m\u001b[0m\u001b[0m\n\u001b[0;32m---> 89\u001b[0;31m                 \u001b[0mself\u001b[0m\u001b[0;34m.\u001b[0m\u001b[0m_run_once\u001b[0m\u001b[0;34m(\u001b[0m\u001b[0;34m)\u001b[0m\u001b[0;34m\u001b[0m\u001b[0;34m\u001b[0m\u001b[0m\n\u001b[0m\u001b[1;32m     90\u001b[0m                 \u001b[0;32mif\u001b[0m \u001b[0mself\u001b[0m\u001b[0;34m.\u001b[0m\u001b[0m_stopping\u001b[0m\u001b[0;34m:\u001b[0m\u001b[0;34m\u001b[0m\u001b[0;34m\u001b[0m\u001b[0m\n\u001b[1;32m     91\u001b[0m                     \u001b[0;32mbreak\u001b[0m\u001b[0;34m\u001b[0m\u001b[0;34m\u001b[0m\u001b[0m\n",
      "\u001b[0;32m~/anaconda3/lib/python3.7/site-packages/nest_asyncio.py\u001b[0m in \u001b[0;36m_run_once\u001b[0;34m(self)\u001b[0m\n\u001b[1;32m    111\u001b[0m             \u001b[0;32melse\u001b[0m \u001b[0mmin\u001b[0m\u001b[0;34m(\u001b[0m\u001b[0mmax\u001b[0m\u001b[0;34m(\u001b[0m\u001b[0;36m0\u001b[0m\u001b[0;34m,\u001b[0m \u001b[0mscheduled\u001b[0m\u001b[0;34m[\u001b[0m\u001b[0;36m0\u001b[0m\u001b[0;34m]\u001b[0m\u001b[0;34m.\u001b[0m\u001b[0m_when\u001b[0m \u001b[0;34m-\u001b[0m \u001b[0mnow\u001b[0m\u001b[0;34m)\u001b[0m\u001b[0;34m,\u001b[0m \u001b[0;36m10\u001b[0m\u001b[0;34m)\u001b[0m \u001b[0;32mif\u001b[0m \u001b[0mscheduled\u001b[0m\u001b[0;31m \u001b[0m\u001b[0;31m\\\u001b[0m\u001b[0;34m\u001b[0m\u001b[0;34m\u001b[0m\u001b[0m\n\u001b[1;32m    112\u001b[0m             \u001b[0;32melse\u001b[0m \u001b[0;32mNone\u001b[0m\u001b[0;34m\u001b[0m\u001b[0;34m\u001b[0m\u001b[0m\n\u001b[0;32m--> 113\u001b[0;31m         \u001b[0mevent_list\u001b[0m \u001b[0;34m=\u001b[0m \u001b[0mself\u001b[0m\u001b[0;34m.\u001b[0m\u001b[0m_selector\u001b[0m\u001b[0;34m.\u001b[0m\u001b[0mselect\u001b[0m\u001b[0;34m(\u001b[0m\u001b[0mtimeout\u001b[0m\u001b[0;34m)\u001b[0m\u001b[0;34m\u001b[0m\u001b[0;34m\u001b[0m\u001b[0m\n\u001b[0m\u001b[1;32m    114\u001b[0m         \u001b[0mself\u001b[0m\u001b[0;34m.\u001b[0m\u001b[0m_process_events\u001b[0m\u001b[0;34m(\u001b[0m\u001b[0mevent_list\u001b[0m\u001b[0;34m)\u001b[0m\u001b[0;34m\u001b[0m\u001b[0;34m\u001b[0m\u001b[0m\n\u001b[1;32m    115\u001b[0m \u001b[0;34m\u001b[0m\u001b[0m\n",
      "\u001b[0;32m~/anaconda3/lib/python3.7/selectors.py\u001b[0m in \u001b[0;36mselect\u001b[0;34m(self, timeout)\u001b[0m\n\u001b[1;32m    556\u001b[0m             \u001b[0mready\u001b[0m \u001b[0;34m=\u001b[0m \u001b[0;34m[\u001b[0m\u001b[0;34m]\u001b[0m\u001b[0;34m\u001b[0m\u001b[0;34m\u001b[0m\u001b[0m\n\u001b[1;32m    557\u001b[0m             \u001b[0;32mtry\u001b[0m\u001b[0;34m:\u001b[0m\u001b[0;34m\u001b[0m\u001b[0;34m\u001b[0m\u001b[0m\n\u001b[0;32m--> 558\u001b[0;31m                 \u001b[0mkev_list\u001b[0m \u001b[0;34m=\u001b[0m \u001b[0mself\u001b[0m\u001b[0;34m.\u001b[0m\u001b[0m_selector\u001b[0m\u001b[0;34m.\u001b[0m\u001b[0mcontrol\u001b[0m\u001b[0;34m(\u001b[0m\u001b[0;32mNone\u001b[0m\u001b[0;34m,\u001b[0m \u001b[0mmax_ev\u001b[0m\u001b[0;34m,\u001b[0m \u001b[0mtimeout\u001b[0m\u001b[0;34m)\u001b[0m\u001b[0;34m\u001b[0m\u001b[0;34m\u001b[0m\u001b[0m\n\u001b[0m\u001b[1;32m    559\u001b[0m             \u001b[0;32mexcept\u001b[0m \u001b[0mInterruptedError\u001b[0m\u001b[0;34m:\u001b[0m\u001b[0;34m\u001b[0m\u001b[0;34m\u001b[0m\u001b[0m\n\u001b[1;32m    560\u001b[0m                 \u001b[0;32mreturn\u001b[0m \u001b[0mready\u001b[0m\u001b[0;34m\u001b[0m\u001b[0;34m\u001b[0m\u001b[0m\n",
      "\u001b[0;31mKeyboardInterrupt\u001b[0m: "
     ]
    }
   ],
   "source": [
    "warm_up()"
   ]
  },
  {
   "cell_type": "markdown",
   "metadata": {},
   "source": [
    "### Call predict and recommend from server for canonical config"
   ]
  },
  {
   "cell_type": "markdown",
   "metadata": {},
   "source": [
    "#### Predictions for different algorithms"
   ]
  },
  {
   "cell_type": "code",
   "execution_count": 15,
   "metadata": {
    "scrolled": false
   },
   "outputs": [
    {
     "name": "stdout",
     "output_type": "stream",
     "text": [
      "Algorithm: bias\n",
      "Number of requests: 1000\n",
      "Total response time: 40.862228551999976\n",
      "Throughput (requests per second): 24.472478262594798\n",
      "Peak response time: 0.6102552279999998\n",
      "Mean response time: 0.3247120795950006\n",
      "99 percentile: 0.5040635432999994\n"
     ]
    },
    {
     "data": {
      "image/png": "[encoded data removed]",
      "text/plain": [
       "<Figure size 432x288 with 1 Axes>"
      ]
     },
     "metadata": {
      "needs_background": "light"
     },
     "output_type": "display_data"
    },
    {
     "data": {
      "image/png": "[encoded data removed]",
      "text/plain": [
       "<Figure size 432x288 with 1 Axes>"
      ]
     },
     "metadata": {
      "needs_background": "light"
     },
     "output_type": "display_data"
    },
    {
     "name": "stdout",
     "output_type": "stream",
     "text": [
      "---------------------\n",
      "\n",
      "Algorithm: itemitem\n",
      "Number of requests: 1000\n",
      "Total response time: 133.893338584\n",
      "Throughput (requests per second): 7.4686314537794205\n",
      "Peak response time: 13.300732983999978\n",
      "Mean response time: 1.0648159174899998\n",
      "99 percentile: 3.4594864468000175\n"
     ]
    },
    {
     "data": {
      "image/png": "[encoded data removed]",
      "text/plain": [
       "<Figure size 432x288 with 1 Axes>"
      ]
     },
     "metadata": {
      "needs_background": "light"
     },
     "output_type": "display_data"
    },
    {
     "data": {
      "image/png": "[encoded data removed]",
      "text/plain": [
       "<Figure size 432x288 with 1 Axes>"
      ]
     },
     "metadata": {
      "needs_background": "light"
     },
     "output_type": "display_data"
    },
    {
     "name": "stdout",
     "output_type": "stream",
     "text": [
      "---------------------\n",
      "\n",
      "Algorithm: useruser\n",
      "Number of requests: 1000\n",
      "Total response time: 126.65488612800004\n",
      "Throughput (requests per second): 7.895471154499159\n",
      "Peak response time: 1.4058934759999602\n",
      "Mean response time: 1.0086880410090011\n",
      "99 percentile: 1.3240882784601022\n"
     ]
    },
    {
     "data": {
      "image/png": "[encoded data removed]",
      "text/plain": [
       "<Figure size 432x288 with 1 Axes>"
      ]
     },
     "metadata": {
      "needs_background": "light"
     },
     "output_type": "display_data"
    },
    {
     "data": {
      "image/png": "[encoded data removed]",
      "text/plain": [
       "<Figure size 432x288 with 1 Axes>"
      ]
     },
     "metadata": {
      "needs_background": "light"
     },
     "output_type": "display_data"
    },
    {
     "name": "stdout",
     "output_type": "stream",
     "text": [
      "---------------------\n",
      "\n",
      "Algorithm: biasedmf\n",
      "Number of requests: 1000\n",
      "Total response time: 628.174279747\n",
      "Throughput (requests per second): 1.5919149068038163\n",
      "Peak response time: 7.101268454999968\n",
      "Mean response time: 5.006404337635997\n",
      "99 percentile: 6.574937884570081\n"
     ]
    },
    {
     "data": {
      "image/png": "[encoded data removed]",
      "text/plain": [
       "<Figure size 432x288 with 1 Axes>"
      ]
     },
     "metadata": {
      "needs_background": "light"
     },
     "output_type": "display_data"
    },
    {
     "data": {
      "image/png": "[encoded data removed]",
      "text/plain": [
       "<Figure size 432x288 with 1 Axes>"
      ]
     },
     "metadata": {
      "needs_background": "light"
     },
     "output_type": "display_data"
    },
    {
     "name": "stdout",
     "output_type": "stream",
     "text": [
      "---------------------\n",
      "\n",
      "Algorithm: implicitmf\n",
      "Number of requests: 1000\n",
      "Total response time: 68.56399007300001\n",
      "Throughput (requests per second): 14.584915477283351\n",
      "Peak response time: 0.8552128950000224\n",
      "Mean response time: 0.5452830585869956\n",
      "99 percentile: 0.6840114672299842\n"
     ]
    },
    {
     "data": {
      "image/png": "[encoded data removed]",
      "text/plain": [
       "<Figure size 432x288 with 1 Axes>"
      ]
     },
     "metadata": {
      "needs_background": "light"
     },
     "output_type": "display_data"
    },
    {
     "data": {
      "image/png": "[encoded data removed]",
      "text/plain": [
       "<Figure size 432x288 with 1 Axes>"
      ]
     },
     "metadata": {
      "needs_background": "light"
     },
     "output_type": "display_data"
    },
    {
     "name": "stdout",
     "output_type": "stream",
     "text": [
      "---------------------\n",
      "\n",
      "Algorithm: funksvd\n",
      "Number of requests: 1000\n",
      "Total response time: 67.5312412589999\n",
      "Throughput (requests per second): 14.807961194800782\n",
      "Peak response time: 0.8141309869999986\n",
      "Mean response time: 0.5365512504510005\n",
      "99 percentile: 0.7221306263299061\n"
     ]
    },
    {
     "data": {
      "image/png": "[encoded data removed]",
      "text/plain": [
       "<Figure size 432x288 with 1 Axes>"
      ]
     },
     "metadata": {
      "needs_background": "light"
     },
     "output_type": "display_data"
    },
    {
     "data": {
      "image/png": "[encoded data removed]",
      "text/plain": [
       "<Figure size 432x288 with 1 Axes>"
      ]
     },
     "metadata": {
      "needs_background": "light"
     },
     "output_type": "display_data"
    },
    {
     "name": "stdout",
     "output_type": "stream",
     "text": [
      "---------------------\n",
      "\n"
     ]
    }
   ],
   "source": [
    "for algo in pred_algos:\n",
    "    file_name = f'preds_{algo}_parallel_threads_8_workers_4_num_req_{num_requests}.csv'\n",
    "    loop = asyncio.get_event_loop()\n",
    "    print(f'Algorithm: {algo}')\n",
    "    future = asyncio.ensure_future(get_preds_sem(8, algo, file_name, True))\n",
    "    loop.run_until_complete(future)\n",
    "#    plot_numbers(file_name)\n",
    "    hist_numbers(file_name)\n",
    "    print('---------------------')\n",
    "    print('')"
   ]
  },
  {
   "cell_type": "markdown",
   "metadata": {},
   "source": [
    "#### Throughputs"
   ]
  },
  {
   "cell_type": "code",
   "execution_count": null,
   "metadata": {},
   "outputs": [],
   "source": [
    "# throughput_file_name = 'throughput_single_multiple_requests.csv'\n",
    "# np.savetxt(throughput_file_name, throughputs , delimiter=',')"
   ]
  },
  {
   "cell_type": "code",
   "execution_count": null,
   "metadata": {},
   "outputs": [],
   "source": [
    "# throughputs_from_file = np.genfromtxt(throughput_file_name, delimiter=',')\n",
    "# threads = [1, 2, 4, 8, 16]\n",
    "# y_pos = np.arange(len(throughputs_from_file))\n",
    "\n",
    "# plt.bar(y_pos, throughputs_from_file, align='center', alpha=0.5)\n",
    "# plt.xticks(y_pos, threads)\n",
    "# plt.ylabel('Throughput')\n",
    "# plt.title('Throughput by threads')\n",
    "\n",
    "# plt.show()"
   ]
  },
  {
   "cell_type": "markdown",
   "metadata": {},
   "source": [
    "##### Boxplot for all prediction scenarios"
   ]
  },
  {
   "cell_type": "code",
   "execution_count": null,
   "metadata": {},
   "outputs": [],
   "source": [
    "# preds_scenarios = [np.genfromtxt(f'parallel_threads_1_workers_4_num_req_{num_requests}.csv', delimiter=','),\n",
    "#    np.genfromtxt(f'parallel_threads_2_workers_4_num_req_{num_requests}.csv', delimiter=','),\n",
    "#    np.genfromtxt(f'parallel_threads_4_workers_4_num_req_{num_requests}.csv', delimiter=','),\n",
    "#    np.genfromtxt(f'parallel_threads_8_workers_4_num_req_{num_requests}.csv', delimiter=','),\n",
    "#    np.genfromtxt(f'parallel_threads_16_workers_4_num_req_{num_requests}.csv', delimiter=',')\n",
    "#    ]\n",
    "\n",
    "# a4_dims = (12, 12)\n",
    "# fig, ax = plt.subplots(figsize=a4_dims)\n",
    "\n",
    "# sns.boxplot(ax=ax, data=preds_scenarios)\n",
    "# plt.xticks([0, 1, 2, 3, 4], [1, 2, 4, 8, 16])"
   ]
  },
  {
   "cell_type": "markdown",
   "metadata": {},
   "source": [
    "#### Recommendations"
   ]
  },
  {
   "cell_type": "code",
   "execution_count": 20,
   "metadata": {},
   "outputs": [
    {
     "name": "stdout",
     "output_type": "stream",
     "text": [
      "Number of requests: 1000\n",
      "Total response time: 3.780431953000516\n",
      "Throughput (requests per second): 264.5200369778653\n",
      "Peak response time: 0.04821931600054086\n",
      "Mean response time: 0.027970573934006097\n",
      "99 percentile: 0.03599552225010484\n"
     ]
    },
    {
     "data": {
      "image/png": "[encoded data removed]",
      "text/plain": [
       "<Figure size 432x288 with 1 Axes>"
      ]
     },
     "metadata": {
      "needs_background": "light"
     },
     "output_type": "display_data"
    },
    {
     "data": {
      "image/png": "[encoded data removed]",
      "text/plain": [
       "<Figure size 432x288 with 1 Axes>"
      ]
     },
     "metadata": {
      "needs_background": "light"
     },
     "output_type": "display_data"
    }
   ],
   "source": [
    "algo_rec = 'popular'\n",
    "file_name = f'recs_{algo_rec}_parallel_threads_8_workers_4_num_req_{num_requests}.csv'\n",
    "loop = asyncio.get_event_loop()\n",
    "future = asyncio.ensure_future(get_recs_sem(8, algo_rec, file_name))\n",
    "loop.run_until_complete(future)\n",
    "plot_numbers(file_name)\n",
    "hist_numbers(file_name)"
   ]
  },
  {
   "cell_type": "markdown",
   "metadata": {},
   "source": [
    "### Call server using different workers in parallel - need to restart the server"
   ]
  },
  {
   "cell_type": "code",
   "execution_count": 70,
   "metadata": {},
   "outputs": [],
   "source": [
    "throughputs = []\n",
    "current_algo = 'biasedmf'"
   ]
  },
  {
   "cell_type": "code",
   "execution_count": 71,
   "metadata": {},
   "outputs": [],
   "source": [
    "def call_server(file_name):\n",
    "    loop = asyncio.get_event_loop()\n",
    "    future = asyncio.ensure_future(get_preds_sem(8, current_algo, file_name, True))\n",
    "    loop.run_until_complete(future)\n",
    "#    plot_numbers(file_name)\n",
    "    hist_numbers(file_name)"
   ]
  },
  {
   "cell_type": "markdown",
   "metadata": {},
   "source": [
    "#### Four threads and one worker "
   ]
  },
  {
   "cell_type": "code",
   "execution_count": 72,
   "metadata": {},
   "outputs": [
    {
     "name": "stdout",
     "output_type": "stream",
     "text": [
      "Calling biasedmf. Worker number: 1\n"
     ]
    }
   ],
   "source": [
    "num_workers = 1\n",
    "warm_up(current_algo, num_workers)"
   ]
  },
  {
   "cell_type": "code",
   "execution_count": 73,
   "metadata": {},
   "outputs": [
    {
     "name": "stdout",
     "output_type": "stream",
     "text": [
      "Number of requests: 1000\n",
      "Total response time: 1814.9676098359996\n",
      "Throughput (requests per second): 0.5509740199112203\n",
      "Peak response time: 21.630597344999842\n",
      "Mean response time: 14.46042073130088\n",
      "99 percentile: 17.17849736731048\n"
     ]
    },
    {
     "data": {
      "image/png": "[encoded data removed]",
      "text/plain": [
       "<Figure size 432x288 with 1 Axes>"
      ]
     },
     "metadata": {
      "needs_background": "light"
     },
     "output_type": "display_data"
    }
   ],
   "source": [
    "file_name = f'preds_{algo}_parallel_threads_8_workers_{num_workers}_num_req_{num_requests}.csv'\n",
    "call_server(file_name)"
   ]
  },
  {
   "cell_type": "markdown",
   "metadata": {},
   "source": [
    "#### Four threads and two workers"
   ]
  },
  {
   "cell_type": "code",
   "execution_count": 104,
   "metadata": {},
   "outputs": [
    {
     "name": "stdout",
     "output_type": "stream",
     "text": [
      "Calling biasedmf. Worker number: 1\n",
      "Calling biasedmf. Worker number: 2\n",
      "Calling biasedmf. Worker number: 3\n",
      "Calling biasedmf. Worker number: 4\n"
     ]
    }
   ],
   "source": [
    "num_workers = 2\n",
    "warm_up(current_algo, num_workers)"
   ]
  },
  {
   "cell_type": "code",
   "execution_count": 105,
   "metadata": {},
   "outputs": [
    {
     "name": "stdout",
     "output_type": "stream",
     "text": [
      "Number of requests: 1000\n",
      "Total response time: 964.4838570739994\n",
      "Throughput (requests per second): 1.0368239889817832\n",
      "Peak response time: 12.68013277099817\n",
      "Mean response time: 7.687203137790057\n",
      "99 percentile: 11.007155182500828\n"
     ]
    },
    {
     "data": {
      "image/png": "[encoded data removed]",
      "text/plain": [
       "<Figure size 432x288 with 1 Axes>"
      ]
     },
     "metadata": {
      "needs_background": "light"
     },
     "output_type": "display_data"
    }
   ],
   "source": [
    "file_name = f'preds_{algo}_parallel_threads_8_workers_{num_workers}_num_req_{num_requests}.csv'\n",
    "call_server(file_name)"
   ]
  },
  {
   "cell_type": "markdown",
   "metadata": {},
   "source": [
    "#### Four threads and four workers"
   ]
  },
  {
   "cell_type": "code",
   "execution_count": 82,
   "metadata": {},
   "outputs": [
    {
     "name": "stdout",
     "output_type": "stream",
     "text": [
      "Calling biasedmf. Worker number: 1\n",
      "Calling biasedmf. Worker number: 2\n",
      "Calling biasedmf. Worker number: 3\n",
      "Calling biasedmf. Worker number: 4\n"
     ]
    }
   ],
   "source": [
    "num_workers = 4\n",
    "warm_up(current_algo, num_workers)"
   ]
  },
  {
   "cell_type": "code",
   "execution_count": 83,
   "metadata": {},
   "outputs": [
    {
     "name": "stdout",
     "output_type": "stream",
     "text": [
      "Number of requests: 1000\n",
      "Total response time: 555.7299853480035\n",
      "Throughput (requests per second): 1.7994350248597621\n",
      "Peak response time: 5.155215617000067\n",
      "Mean response time: 4.4299435244089835\n",
      "99 percentile: 4.988533903970274\n"
     ]
    },
    {
     "data": {
      "image/png": "[encoded data removed]",
      "text/plain": [
       "<Figure size 432x288 with 1 Axes>"
      ]
     },
     "metadata": {
      "needs_background": "light"
     },
     "output_type": "display_data"
    }
   ],
   "source": [
    "file_name = f'preds_{algo}_parallel_threads_8_workers_{num_workers}_num_req_{num_requests}.csv'\n",
    "call_server(file_name)"
   ]
  },
  {
   "cell_type": "markdown",
   "metadata": {},
   "source": [
    "#### Four threads and eight workers"
   ]
  },
  {
   "cell_type": "code",
   "execution_count": 91,
   "metadata": {},
   "outputs": [
    {
     "name": "stdout",
     "output_type": "stream",
     "text": [
      "Calling biasedmf. Worker number: 1\n",
      "Calling biasedmf. Worker number: 2\n",
      "Calling biasedmf. Worker number: 3\n",
      "Calling biasedmf. Worker number: 4\n",
      "Calling biasedmf. Worker number: 5\n",
      "Calling biasedmf. Worker number: 6\n",
      "Calling biasedmf. Worker number: 7\n",
      "Calling biasedmf. Worker number: 8\n",
      "Calling biasedmf. Worker number: 9\n",
      "Calling biasedmf. Worker number: 10\n",
      "Calling biasedmf. Worker number: 11\n",
      "Calling biasedmf. Worker number: 12\n",
      "Calling biasedmf. Worker number: 13\n",
      "Calling biasedmf. Worker number: 14\n",
      "Calling biasedmf. Worker number: 15\n",
      "Calling biasedmf. Worker number: 16\n"
     ]
    }
   ],
   "source": [
    "num_workers = 8\n",
    "warm_up(current_algo, num_workers)"
   ]
  },
  {
   "cell_type": "code",
   "execution_count": 92,
   "metadata": {},
   "outputs": [
    {
     "name": "stdout",
     "output_type": "stream",
     "text": [
      "Number of requests: 1000\n",
      "Total response time: 444.8871672740024\n",
      "Throughput (requests per second): 2.247760946056032\n",
      "Peak response time: 5.0880468460018164\n",
      "Mean response time: 3.5477909702800536\n",
      "99 percentile: 4.7287102993423105\n"
     ]
    },
    {
     "data": {
      "image/png": "[encoded data removed]",
      "text/plain": [
       "<Figure size 432x288 with 1 Axes>"
      ]
     },
     "metadata": {
      "needs_background": "light"
     },
     "output_type": "display_data"
    }
   ],
   "source": [
    "file_name = f'preds_{algo}_parallel_threads_8_workers_{num_workers}_num_req_{num_requests}.csv'\n",
    "call_server(file_name)"
   ]
  },
  {
   "cell_type": "markdown",
   "metadata": {},
   "source": [
    "#### Four threads and sixteen workers"
   ]
  },
  {
   "cell_type": "code",
   "execution_count": 93,
   "metadata": {},
   "outputs": [
    {
     "name": "stdout",
     "output_type": "stream",
     "text": [
      "Calling biasedmf. Worker number: 1\n",
      "Calling biasedmf. Worker number: 2\n",
      "Calling biasedmf. Worker number: 3\n",
      "Calling biasedmf. Worker number: 4\n",
      "Calling biasedmf. Worker number: 5\n",
      "Calling biasedmf. Worker number: 6\n",
      "Calling biasedmf. Worker number: 7\n",
      "Calling biasedmf. Worker number: 8\n",
      "Calling biasedmf. Worker number: 9\n",
      "Calling biasedmf. Worker number: 10\n",
      "Calling biasedmf. Worker number: 11\n",
      "Calling biasedmf. Worker number: 12\n",
      "Calling biasedmf. Worker number: 13\n",
      "Calling biasedmf. Worker number: 14\n",
      "Calling biasedmf. Worker number: 15\n",
      "Calling biasedmf. Worker number: 16\n",
      "Calling biasedmf. Worker number: 17\n",
      "Calling biasedmf. Worker number: 18\n",
      "Calling biasedmf. Worker number: 19\n",
      "Calling biasedmf. Worker number: 20\n",
      "Calling biasedmf. Worker number: 21\n",
      "Calling biasedmf. Worker number: 22\n",
      "Calling biasedmf. Worker number: 23\n",
      "Calling biasedmf. Worker number: 24\n",
      "Calling biasedmf. Worker number: 25\n",
      "Calling biasedmf. Worker number: 26\n",
      "Calling biasedmf. Worker number: 27\n",
      "Calling biasedmf. Worker number: 28\n",
      "Calling biasedmf. Worker number: 29\n",
      "Calling biasedmf. Worker number: 30\n",
      "Calling biasedmf. Worker number: 31\n",
      "Calling biasedmf. Worker number: 32\n"
     ]
    }
   ],
   "source": [
    "num_workers = 16\n",
    "warm_up(current_algo, num_workers)"
   ]
  },
  {
   "cell_type": "code",
   "execution_count": 94,
   "metadata": {},
   "outputs": [
    {
     "name": "stdout",
     "output_type": "stream",
     "text": [
      "Number of requests: 1000\n",
      "Total response time: 486.1705974409997\n",
      "Throughput (requests per second): 2.056891151508514\n",
      "Peak response time: 5.139888297999278\n",
      "Mean response time: 3.8816242125489118\n",
      "99 percentile: 4.794696600568313\n"
     ]
    },
    {
     "data": {
      "image/png": "[encoded data removed]",
      "text/plain": [
       "<Figure size 432x288 with 1 Axes>"
      ]
     },
     "metadata": {
      "needs_background": "light"
     },
     "output_type": "display_data"
    }
   ],
   "source": [
    "file_name = f'preds_{algo}_parallel_threads_8_workers_{num_workers}_num_req_{num_requests}.csv'\n",
    "call_server(file_name)"
   ]
  },
  {
   "cell_type": "markdown",
   "metadata": {},
   "source": [
    "#### Throughput by number of workers"
   ]
  },
  {
   "cell_type": "code",
   "execution_count": 109,
   "metadata": {},
   "outputs": [],
   "source": [
    "#throughputs = [0.5509740199112203, 1.0368239889817832, 1.7994350248597621, 2.247760946056032, 2.056891151508514]"
   ]
  },
  {
   "cell_type": "code",
   "execution_count": 107,
   "metadata": {},
   "outputs": [],
   "source": [
    "throughput_file_name_workers = 'throughput_single_multiple_workers.csv'\n",
    "np.savetxt(throughput_file_name_workers, throughputs , delimiter=',')"
   ]
  },
  {
   "cell_type": "code",
   "execution_count": 108,
   "metadata": {},
   "outputs": [
    {
     "data": {
      "image/png": "[encoded data removed]",
      "text/plain": [
       "<Figure size 432x288 with 1 Axes>"
      ]
     },
     "metadata": {
      "needs_background": "light"
     },
     "output_type": "display_data"
    }
   ],
   "source": [
    "throughputs_workers_from_file = np.genfromtxt(throughput_file_name_workers, delimiter=',')\n",
    "workers = [1, 2, 4, 8, 16]\n",
    "y_pos = np.arange(len(throughputs_workers_from_file))\n",
    "\n",
    "plt.bar(y_pos, throughputs_workers_from_file, align='center', alpha=0.5)\n",
    "plt.xticks(y_pos, workers)\n",
    "plt.ylabel('Throughput')\n",
    "plt.title('Throughput by workers')\n",
    "\n",
    "plt.show()"
   ]
  },
  {
   "cell_type": "markdown",
   "metadata": {},
   "source": [
    "### Lenskit"
   ]
  },
  {
   "cell_type": "code",
   "execution_count": 11,
   "metadata": {},
   "outputs": [],
   "source": [
    "import sys\n",
    "import math\n",
    "from binpickle import BinPickleFile\n",
    "from pathlib import Path\n",
    "\n",
    "directory_path = 'models'\n",
    "algo_pred_lkpy = 'bias.bpk'\n",
    "\n",
    "def load_for_shared_mem(file_name):\n",
    "    full_file_name = Path(directory_path) / file_name\n",
    "\n",
    "    binpickle_file = BinPickleFile(full_file_name, direct=True)\n",
    "    model = binpickle_file.load()\n",
    "    return model\n",
    "\n",
    "def get_predictions_from_model(model, user, items):\n",
    "    try:\n",
    "        results = []\n",
    "        df_preds = model.predict_for_user(user, items)\n",
    "        for index, value in df_preds.iteritems():\n",
    "            if not math.isnan(value):\n",
    "                results.append({'item': index, 'score': value})\n",
    "        return results\n",
    "    except:\n",
    "        print(f\"Unexpected preds error for user: {user}, with items: {items}. Error: {sys.exc_info()[0]}\")\n",
    "        raise\n",
    "        \n",
    "\n",
    "# Predictions    \n",
    "async def get_preds_threads_lkpy(num_sem, model, file_name=None, add_throughput=False):\n",
    "    times = []\n",
    "    sem = asyncio.Semaphore(num_sem)\n",
    "    tasks = []    \n",
    "    num_requests = len(n_rand_users)\n",
    "    print(f'Number of requests: {num_requests}')\n",
    "    start_preds = perf_counter()\n",
    "\n",
    "    async with aiohttp.ClientSession() as session:\n",
    "        for idx, row in n_rand_users.iterrows():\n",
    "            task = asyncio.ensure_future(get_user_preds_with_threads_lkpy(row['user'], algo_pred_lkpy, items, session, sem, times, model))\n",
    "            tasks.append(task)         \n",
    "\n",
    "        responses = await asyncio.gather(*tasks)\n",
    "        time_taken_all = perf_counter() - start_preds\n",
    "        print_stats(times, time_taken_all, num_requests)\n",
    "        \n",
    "        if file_name != None and file_name != '':\n",
    "            if os.path.exists(file_name):\n",
    "                os.remove(file_name)\n",
    "            np.asarray(times)\n",
    "            np.savetxt(file_name, times, delimiter=',')\n",
    "        \n",
    "        if add_throughput:\n",
    "            throughputs.append(num_requests / time_taken_all)\n",
    "\n",
    "async def get_user_preds_with_threads_lkpy(user, algo, items, session, sem, times, model):\n",
    "    async with sem:  # semaphore limits num of simultaneous downloads\n",
    "        return await get_user_preds_threads_lkpy(user, algo, items, session, times, model)        \n",
    "        \n",
    "async def get_user_preds_threads_lkpy(user, algo, items, session, times, model):\n",
    "    try:\n",
    "        start = perf_counter()\n",
    "        results = []\n",
    "        df_preds = model.predict_for_user(user, items.split(','))\n",
    "        for index, value in df_preds.iteritems():\n",
    "            if not math.isnan(value):\n",
    "                results.append({'item': index, 'score': value})\n",
    "                \n",
    "        time_taken = perf_counter() - start\n",
    "        times.append(time_taken)\n",
    "        return results\n",
    "    except:\n",
    "        print(f\"Unexpected preds error for user: {user}, with items: {items}. Error: {sys.exc_info()[0]}\")\n",
    "        raise        "
   ]
  },
  {
   "cell_type": "code",
   "execution_count": 49,
   "metadata": {},
   "outputs": [
    {
     "name": "stdout",
     "output_type": "stream",
     "text": [
      "Number of requests: 1000\n",
      "Total response time: 12.70856934999938\n",
      "Throughput (requests per second): 78.6870632295089\n",
      "Peak response time: 0.01810653699976683\n",
      "Mean response time: 0.012487252753024222\n",
      "99 percentile: 0.015544317380117715\n"
     ]
    },
    {
     "data": {
      "image/png": "[encoded data removed]",
      "text/plain": [
       "<Figure size 432x288 with 1 Axes>"
      ]
     },
     "metadata": {
      "needs_background": "light"
     },
     "output_type": "display_data"
    }
   ],
   "source": [
    "algo = 'bias'\n",
    "model = load_for_shared_mem(f'{algo}.bpk')\n",
    "file_name = f'lkpy_parallel_threads_8_{algo}__num_req_{num_requests}.csv'\n",
    "loop = asyncio.get_event_loop()\n",
    "future = asyncio.ensure_future(get_preds_threads_lkpy(8, model, file_name))\n",
    "loop.run_until_complete(future)\n",
    "#plot_numbers(file_name)\n",
    "hist_numbers(file_name)"
   ]
  },
  {
   "cell_type": "code",
   "execution_count": 50,
   "metadata": {},
   "outputs": [],
   "source": [
    "warm_up(algo, 8, False)"
   ]
  },
  {
   "cell_type": "code",
   "execution_count": 51,
   "metadata": {},
   "outputs": [
    {
     "name": "stdout",
     "output_type": "stream",
     "text": [
      "Algorithm: bias\n",
      "Number of requests: 1000\n",
      "Total response time: 37.7498540760007\n",
      "Throughput (requests per second): 26.49016862387676\n",
      "Peak response time: 0.7274802209994959\n",
      "Mean response time: 0.29975297041298654\n",
      "99 percentile: 0.4806189410806473\n"
     ]
    },
    {
     "data": {
      "image/png": "[encoded data removed]",
      "text/plain": [
       "<Figure size 432x288 with 1 Axes>"
      ]
     },
     "metadata": {
      "needs_background": "light"
     },
     "output_type": "display_data"
    }
   ],
   "source": [
    "file_name = f'preds_{algo}_parallel_threads_8_workers_8_num_req_{num_requests}.csv'\n",
    "loop = asyncio.get_event_loop()\n",
    "print(f'Algorithm: {algo}')\n",
    "future = asyncio.ensure_future(get_preds_sem(8, algo, file_name, True))\n",
    "loop.run_until_complete(future)\n",
    "#plot_numbers(file_name)\n",
    "hist_numbers(file_name)"
   ]
  },
  {
   "cell_type": "code",
   "execution_count": null,
   "metadata": {},
   "outputs": [],
   "source": []
  }
 ],
 "metadata": {
  "kernelspec": {
   "display_name": "Python 3",
   "language": "python",
   "name": "python3"
  },
  "language_info": {
   "codemirror_mode": {
    "name": "ipython",
    "version": 3
   },
   "file_extension": ".py",
   "mimetype": "text/x-python",
   "name": "python",
   "nbconvert_exporter": "python",
   "pygments_lexer": "ipython3",
   "version": "3.7.7"
  }
 },
 "nbformat": 4,
 "nbformat_minor": 4
}
