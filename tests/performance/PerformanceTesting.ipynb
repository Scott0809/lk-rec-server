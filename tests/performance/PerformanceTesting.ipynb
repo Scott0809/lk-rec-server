{
 "cells": [
  {
   "cell_type": "markdown",
   "metadata": {},
   "source": [
    "# Performance Testing"
   ]
  },
  {
   "cell_type": "code",
   "execution_count": 1,
   "metadata": {},
   "outputs": [],
   "source": [
    "import json\n",
    "\n",
    "class ConfigReader:\n",
    "    def get_value(self, key):\n",
    "        with open('config.json') as json_data_file:\n",
    "            data = json.load(json_data_file)\n",
    "        return data[key]"
   ]
  },
  {
   "cell_type": "code",
   "execution_count": 6,
   "metadata": {},
   "outputs": [],
   "source": [
    "# TODO: change to use any sql db, use sqlite3 for now.\n",
    "import sqlite3\n",
    "from sqlalchemy import create_engine, MetaData, Table, Column, Integer, String\n",
    "import urllib\n",
    "from pandas.io import sql\n",
    "from datetime import datetime\n",
    "\n",
    "class DbManager:\n",
    "    def __init__(self):\n",
    "        reader = ConfigReader()\n",
    "        db_connection = reader.get_value(\"db_connection\")        \n",
    "        self.conn_string = '{db_engine}+{connector}://{user}:{password}@{server}/{database}'.format(\n",
    "            db_engine=db_connection['db_engine'],\n",
    "            connector=db_connection['connector'],\n",
    "            user=db_connection['user'],\n",
    "            password=db_connection['password'],\n",
    "            server=db_connection['server'],\n",
    "            database=db_connection['database'])\n",
    " \n",
    "    def get_ratings(self):\n",
    "        return sql.read_sql(\"SELECT userId, itemId, rating, timestamp FROM ratings;\", create_engine(self.conn_string))\n",
    "\n",
    "    def get_movies(self, term):\n",
    "        return sql.read_sql(\"SELECT movieId, title, genres FROM movies WHERE title LIKE '%{term}%';\".format(term=term), create_engine(self.conn_string))\n",
    "\n",
    "    def get_movie(self, id):\n",
    "        return sql.read_sql(\"SELECT title, genres FROM movies WHERE movieId = {id};\".format(id=id), create_engine(self.conn_string))\n",
    "\n",
    "    def get_links(self):\n",
    "        return sql.read_sql(\"SELECT movieId, imdbId, tmdbId FROM links;\", create_engine(self.conn_string))\n",
    "\n",
    "    def get_users(self):\n",
    "        return sql.read_sql(\"SELECT distinct userId FROM ratings;\", create_engine(self.conn_string))\n",
    "    \n",
    "    def insert_rating(self, user_id, movie_id, rating_value):        \n",
    "        sql.execute(\"INSERT INTO ratings VALUES ({userId}, {itemId}, {rating}, '{timestamp}')\".format(\n",
    "                    userId=user_id,\n",
    "                    itemId=movie_id,\n",
    "                    rating=rating_value,\n",
    "                    timestamp=datetime.timestamp(datetime.now()),\n",
    "                    ), create_engine(self.conn_string))\n",
    "\n",
    "    def remove_ratings(self, user_id):\n",
    "        sql.execute(\"DELETE FROM ratings WHERE userId = {userId}\".format(\n",
    "                    userId=user_id), create_engine(self.conn_string))\n",
    "\n",
    "    def insert_and_get_min_user_id(self):\n",
    "        db_list = sql.read_sql(\"SELECT MIN(userId) as userId FROM users;\", create_engine(self.conn_string))\n",
    "        #min_user_id = [m[1]['userId'] for m in db_list.iterrows()][0]\n",
    "        min_user_id = db_list.iloc[0]['userId']\n",
    "        user_id = int(min_user_id - 1)\n",
    "        sql.execute(\"INSERT INTO users(userId) VALUES ({userId})\".format(userId=user_id), create_engine(self.conn_string))\n",
    "        return user_id\n",
    "    "
   ]
  },
  {
   "cell_type": "markdown",
   "metadata": {},
   "source": [
    "## Get random users"
   ]
  },
  {
   "cell_type": "code",
   "execution_count": 9,
   "metadata": {},
   "outputs": [
    {
     "data": {
      "text/plain": [
       "162543"
      ]
     },
     "execution_count": 9,
     "metadata": {},
     "output_type": "execute_result"
    }
   ],
   "source": [
    "dbManager = DbManager()\n",
    "db_users = dbManager.get_users()\n",
    "n_users = len(db_users)\n",
    "n_users"
   ]
  },
  {
   "cell_type": "code",
   "execution_count": 42,
   "metadata": {},
   "outputs": [
    {
     "data": {
      "text/html": [
       "<div>\n",
       "<style scoped>\n",
       "    .dataframe tbody tr th:only-of-type {\n",
       "        vertical-align: middle;\n",
       "    }\n",
       "\n",
       "    .dataframe tbody tr th {\n",
       "        vertical-align: top;\n",
       "    }\n",
       "\n",
       "    .dataframe thead th {\n",
       "        text-align: right;\n",
       "    }\n",
       "</style>\n",
       "<table border=\"1\" class=\"dataframe\">\n",
       "  <thead>\n",
       "    <tr style=\"text-align: right;\">\n",
       "      <th></th>\n",
       "      <th>userId</th>\n",
       "    </tr>\n",
       "  </thead>\n",
       "  <tbody>\n",
       "    <tr>\n",
       "      <th>40951</th>\n",
       "      <td>40950</td>\n",
       "    </tr>\n",
       "    <tr>\n",
       "      <th>19730</th>\n",
       "      <td>19729</td>\n",
       "    </tr>\n",
       "    <tr>\n",
       "      <th>97773</th>\n",
       "      <td>97772</td>\n",
       "    </tr>\n",
       "    <tr>\n",
       "      <th>87733</th>\n",
       "      <td>87732</td>\n",
       "    </tr>\n",
       "    <tr>\n",
       "      <th>21472</th>\n",
       "      <td>21471</td>\n",
       "    </tr>\n",
       "    <tr>\n",
       "      <th>...</th>\n",
       "      <td>...</td>\n",
       "    </tr>\n",
       "    <tr>\n",
       "      <th>88566</th>\n",
       "      <td>88565</td>\n",
       "    </tr>\n",
       "    <tr>\n",
       "      <th>124903</th>\n",
       "      <td>124902</td>\n",
       "    </tr>\n",
       "    <tr>\n",
       "      <th>35077</th>\n",
       "      <td>35076</td>\n",
       "    </tr>\n",
       "    <tr>\n",
       "      <th>17605</th>\n",
       "      <td>17604</td>\n",
       "    </tr>\n",
       "    <tr>\n",
       "      <th>64960</th>\n",
       "      <td>64959</td>\n",
       "    </tr>\n",
       "  </tbody>\n",
       "</table>\n",
       "<p>100 rows × 1 columns</p>\n",
       "</div>"
      ],
      "text/plain": [
       "        userId\n",
       "40951    40950\n",
       "19730    19729\n",
       "97773    97772\n",
       "87733    87732\n",
       "21472    21471\n",
       "...        ...\n",
       "88566    88565\n",
       "124903  124902\n",
       "35077    35076\n",
       "17605    17604\n",
       "64960    64959\n",
       "\n",
       "[100 rows x 1 columns]"
      ]
     },
     "execution_count": 42,
     "metadata": {},
     "output_type": "execute_result"
    }
   ],
   "source": [
    "n_rand_users = 100\n",
    "n_rand_users = db_users.sample(n=n_rand_users)\n",
    "n_rand_users"
   ]
  },
  {
   "cell_type": "markdown",
   "metadata": {},
   "source": [
    "## Request recommendations for random users"
   ]
  },
  {
   "cell_type": "code",
   "execution_count": null,
   "metadata": {},
   "outputs": [],
   "source": [
    "import requests\n",
    "import time\n",
    "from datetime import datetime"
   ]
  },
  {
   "cell_type": "code",
   "execution_count": 22,
   "metadata": {},
   "outputs": [],
   "source": [
    "base_url = 'http://127.0.0.1:8000'"
   ]
  },
  {
   "cell_type": "code",
   "execution_count": 23,
   "metadata": {},
   "outputs": [],
   "source": [
    "  def get_recs_from_recserver(users, nr_recs, algo, items):\n",
    "        is_a_rec_request = True if algo == 'popular' or algo == 'topn' else False\n",
    "        recs = []\n",
    "        for userId in users:\n",
    "            if is_a_rec_request:\n",
    "                url = f'{base_url}/algorithms/{algo}/recommendations?user_id={userId}&num_recs={nr_recs}'\n",
    "            else:\n",
    "                url = f'{base_url}/algorithms/{algo}/predictions?user_id={userId}&items={items}'\n",
    "            r = requests.get(url)\n",
    "            data = r.json()\n",
    "            recs.append({'user': userId, 'recs': data['recommendations'] if is_a_rec_request else data['predictions']})\n",
    "        return recs"
   ]
  },
  {
   "cell_type": "code",
   "execution_count": 49,
   "metadata": {},
   "outputs": [],
   "source": [
    "algo = 'popular'\n",
    "n_recs = 5"
   ]
  },
  {
   "cell_type": "code",
   "execution_count": 50,
   "metadata": {},
   "outputs": [
    {
     "name": "stdout",
     "output_type": "stream",
     "text": [
      "time taken: 0:00:08.093078\n"
     ]
    }
   ],
   "source": [
    "#t = time.process_time()\n",
    "start = datetime.now()\n",
    "for idx, row in n_rand_users.iterrows():\n",
    "    get_recs_from_recserver([row['userId']], n_recs, algo, None)\n",
    "#elapsed_time = time.process_time() - t\n",
    "time_taken = datetime.now() - start\n",
    "#print(f'cpu time: {elapsed_time}')\n",
    "print(f'time taken: {time_taken}')"
   ]
  },
  {
   "cell_type": "code",
   "execution_count": null,
   "metadata": {},
   "outputs": [],
   "source": []
  },
  {
   "cell_type": "code",
   "execution_count": null,
   "metadata": {
    "scrolled": true
   },
   "outputs": [],
   "source": []
  }
 ],
 "metadata": {
  "kernelspec": {
   "display_name": "Python 3",
   "language": "python",
   "name": "python3"
  },
  "language_info": {
   "codemirror_mode": {
    "name": "ipython",
    "version": 3
   },
   "file_extension": ".py",
   "mimetype": "text/x-python",
   "name": "python",
   "nbconvert_exporter": "python",
   "pygments_lexer": "ipython3",
   "version": "3.7.7"
  }
 },
 "nbformat": 4,
 "nbformat_minor": 4
}
