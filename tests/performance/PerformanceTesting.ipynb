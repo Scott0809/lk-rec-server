{
 "cells": [
  {
   "cell_type": "code",
   "execution_count": 162,
   "metadata": {},
   "outputs": [
    {
     "name": "stdout",
     "output_type": "stream",
     "text": [
      "Requirement already satisfied: aiohttp in /Users/carlos/anaconda3/lib/python3.7/site-packages (3.6.2)\n",
      "Requirement already satisfied: yarl<2.0,>=1.0 in /Users/carlos/anaconda3/lib/python3.7/site-packages (from aiohttp) (1.5.1)\n",
      "Requirement already satisfied: multidict<5.0,>=4.5 in /Users/carlos/anaconda3/lib/python3.7/site-packages (from aiohttp) (4.7.6)\n",
      "Requirement already satisfied: async-timeout<4.0,>=3.0 in /Users/carlos/anaconda3/lib/python3.7/site-packages (from aiohttp) (3.0.1)\n",
      "Requirement already satisfied: attrs>=17.3.0 in /Users/carlos/anaconda3/lib/python3.7/site-packages (from aiohttp) (19.3.0)\n",
      "Requirement already satisfied: chardet<4.0,>=2.0 in /Users/carlos/anaconda3/lib/python3.7/site-packages (from aiohttp) (3.0.4)\n",
      "Requirement already satisfied: typing-extensions>=3.7.4; python_version < \"3.8\" in /Users/carlos/anaconda3/lib/python3.7/site-packages (from yarl<2.0,>=1.0->aiohttp) (3.7.4.1)\n",
      "Requirement already satisfied: idna>=2.0 in /Users/carlos/anaconda3/lib/python3.7/site-packages (from yarl<2.0,>=1.0->aiohttp) (2.9)\n",
      "Note: you may need to restart the kernel to use updated packages.\n"
     ]
    }
   ],
   "source": [
    "%pip install aiohttp"
   ]
  },
  {
   "cell_type": "code",
   "execution_count": null,
   "metadata": {},
   "outputs": [],
   "source": [
    "import asyncio\n",
    "import aiohttp\n",
    "from datetime import datetime\n",
    "import json\n",
    "import sqlite3\n",
    "from sqlalchemy import create_engine, MetaData, Table, Column, Integer, String\n",
    "import urllib\n",
    "from pandas.io import sql\n",
    "from datetime import datetime"
   ]
  },
  {
   "cell_type": "markdown",
   "metadata": {},
   "source": [
    "# Performance Testing"
   ]
  },
  {
   "cell_type": "code",
   "execution_count": 1,
   "metadata": {},
   "outputs": [],
   "source": [
    "class ConfigReader:\n",
    "    def get_value(self, key):\n",
    "        with open('config.json') as json_data_file:\n",
    "            data = json.load(json_data_file)\n",
    "        return data[key]"
   ]
  },
  {
   "cell_type": "code",
   "execution_count": 4,
   "metadata": {},
   "outputs": [],
   "source": [
    "class DbManager:\n",
    "    def __init__(self):\n",
    "        reader = ConfigReader()\n",
    "        db_connection = reader.get_value(\"db_connection\")        \n",
    "        self.conn_string = '{db_engine}{connector}://{user}:{password}@{server}/{database}'.format(\n",
    "            db_engine=db_connection['db_engine'],\n",
    "            connector=db_connection['connector'],\n",
    "            user=db_connection['user'],\n",
    "            password=db_connection['password'],\n",
    "            server=db_connection['server'],\n",
    "            database=db_connection['database'])\n",
    " \n",
    "    def get_ratings(self):\n",
    "        return sql.read_sql(\"SELECT userId, itemId, rating, timestamp FROM ratings;\", create_engine(self.conn_string))\n",
    "\n",
    "    def get_movies(self, term):\n",
    "        return sql.read_sql(\"SELECT movieId, title, genres FROM movies WHERE title LIKE '%{term}%';\".format(term=term), create_engine(self.conn_string))\n",
    "\n",
    "    def get_movie(self, id):\n",
    "        return sql.read_sql(\"SELECT title, genres FROM movies WHERE movieId = {id};\".format(id=id), create_engine(self.conn_string))\n",
    "\n",
    "    def get_links(self):\n",
    "        return sql.read_sql(\"SELECT movieId, imdbId, tmdbId FROM links;\", create_engine(self.conn_string))\n",
    "\n",
    "    def get_users(self):\n",
    "        return sql.read_sql(\"SELECT distinct userId FROM ratings;\", create_engine(self.conn_string))\n",
    "    \n",
    "    def insert_rating(self, user_id, movie_id, rating_value):        \n",
    "        sql.execute(\"INSERT INTO ratings VALUES ({userId}, {itemId}, {rating}, '{timestamp}')\".format(\n",
    "                    userId=user_id,\n",
    "                    itemId=movie_id,\n",
    "                    rating=rating_value,\n",
    "                    timestamp=datetime.timestamp(datetime.now()),\n",
    "                    ), create_engine(self.conn_string))\n",
    "\n",
    "    def remove_ratings(self, user_id):\n",
    "        sql.execute(\"DELETE FROM ratings WHERE userId = {userId}\".format(\n",
    "                    userId=user_id), create_engine(self.conn_string))\n",
    "\n",
    "    def insert_and_get_min_user_id(self):\n",
    "        db_list = sql.read_sql(\"SELECT MIN(userId) as userId FROM users;\", create_engine(self.conn_string))\n",
    "        #min_user_id = [m[1]['userId'] for m in db_list.iterrows()][0]\n",
    "        min_user_id = db_list.iloc[0]['userId']\n",
    "        user_id = int(min_user_id - 1)\n",
    "        sql.execute(\"INSERT INTO users(userId) VALUES ({userId})\".format(userId=user_id), create_engine(self.conn_string))\n",
    "        return user_id\n",
    "    "
   ]
  },
  {
   "cell_type": "markdown",
   "metadata": {},
   "source": [
    "## Get random users"
   ]
  },
  {
   "cell_type": "code",
   "execution_count": 5,
   "metadata": {},
   "outputs": [
    {
     "data": {
      "text/plain": [
       "162541"
      ]
     },
     "execution_count": 5,
     "metadata": {},
     "output_type": "execute_result"
    }
   ],
   "source": [
    "dbManager = DbManager()\n",
    "db_users = dbManager.get_users()\n",
    "n_users = len(db_users)\n",
    "n_users"
   ]
  },
  {
   "cell_type": "code",
   "execution_count": 204,
   "metadata": {},
   "outputs": [
    {
     "data": {
      "text/html": [
       "<div>\n",
       "<style scoped>\n",
       "    .dataframe tbody tr th:only-of-type {\n",
       "        vertical-align: middle;\n",
       "    }\n",
       "\n",
       "    .dataframe tbody tr th {\n",
       "        vertical-align: top;\n",
       "    }\n",
       "\n",
       "    .dataframe thead th {\n",
       "        text-align: right;\n",
       "    }\n",
       "</style>\n",
       "<table border=\"1\" class=\"dataframe\">\n",
       "  <thead>\n",
       "    <tr style=\"text-align: right;\">\n",
       "      <th></th>\n",
       "      <th>userId</th>\n",
       "    </tr>\n",
       "  </thead>\n",
       "  <tbody>\n",
       "    <tr>\n",
       "      <th>122370</th>\n",
       "      <td>122371</td>\n",
       "    </tr>\n",
       "    <tr>\n",
       "      <th>96646</th>\n",
       "      <td>96647</td>\n",
       "    </tr>\n",
       "    <tr>\n",
       "      <th>11476</th>\n",
       "      <td>11477</td>\n",
       "    </tr>\n",
       "    <tr>\n",
       "      <th>134814</th>\n",
       "      <td>134815</td>\n",
       "    </tr>\n",
       "    <tr>\n",
       "      <th>146974</th>\n",
       "      <td>146975</td>\n",
       "    </tr>\n",
       "  </tbody>\n",
       "</table>\n",
       "</div>"
      ],
      "text/plain": [
       "        userId\n",
       "122370  122371\n",
       "96646    96647\n",
       "11476    11477\n",
       "134814  134815\n",
       "146974  146975"
      ]
     },
     "execution_count": 204,
     "metadata": {},
     "output_type": "execute_result"
    }
   ],
   "source": [
    "n_rand_users = 1000\n",
    "n_rand_users = db_users.sample(n=n_rand_users)\n",
    "n_rand_users.head()"
   ]
  },
  {
   "cell_type": "markdown",
   "metadata": {},
   "source": [
    "## Test recommendation endpoint"
   ]
  },
  {
   "cell_type": "code",
   "execution_count": 195,
   "metadata": {},
   "outputs": [],
   "source": [
    "base_url = 'http://127.0.0.1:8000'\n",
    "algo_rec = 'popular'\n",
    "algo_pred = 'biasedmf'\n",
    "n_recs = 5\n",
    "items = \"10,20,30,40,50\""
   ]
  },
  {
   "cell_type": "code",
   "execution_count": 196,
   "metadata": {},
   "outputs": [],
   "source": [
    "async def get_recs():\n",
    "    times = []\n",
    "    num_requests = len(n_rand_users)\n",
    "    print(f'Number of requests: {num_requests}')\n",
    "    start_recs = datetime.now()\n",
    "    for idx, row in n_rand_users.iterrows():\n",
    "        start = datetime.now()\n",
    "        await get_user_results(row['userId'], n_recs, algo_rec, None)\n",
    "        time_taken = datetime.now() - start\n",
    "        times.append(time_taken)\n",
    "#         print(f'user id: {row[\"userId\"]}')\n",
    "        print(f'Response time: {time_taken}')\n",
    "#         print()\n",
    "    time_taken_all = datetime.now() - start_recs\n",
    "    print(f'Total response time: {time_taken_all}')\n",
    "    print(f'Average load time: {time_taken_all / num_requests}')\n",
    "    print(f'Requests per second: {num_requests / time_taken_all.total_seconds()}')\n",
    "    print(f'Peak response time: {max(times)}')\n",
    "\n",
    "async def get_preds():\n",
    "    times = []\n",
    "    start_preds = datetime.now()\n",
    "    num_requests = len(n_rand_users)\n",
    "    print(f'Number of requests: {num_requests}')    \n",
    "    for idx, row in n_rand_users.iterrows():\n",
    "        start = datetime.now()\n",
    "        await get_user_results(row['userId'], None, algo_pred, items)\n",
    "        time_taken = datetime.now() - start\n",
    "        times.append(time_taken)\n",
    "#         print(f'user id: {row[\"userId\"]}')\n",
    "        print(f'Response time: {time_taken}')\n",
    "#         print()    \n",
    "    time_taken_all = datetime.now() - start_preds\n",
    "    print(f'Total response time: {time_taken_all}')\n",
    "    print(f'Average load time: {time_taken_all / num_requests}')\n",
    "    print(f'Requests per second: {num_requests / time_taken_all.total_seconds()}')\n",
    "    print(f'Peak response time: {max(times)}')\n",
    "    \n",
    "async def get_user_results(userId, nr_recs, algo, items):\n",
    "    is_a_rec_request = True if algo == 'popular' or algo == 'topn' else False\n",
    "#     recs = []\n",
    "    if is_a_rec_request:\n",
    "        url = f'{base_url}/algorithms/{algo}/recommendations?user_id={userId}&num_recs={nr_recs}'\n",
    "    else:\n",
    "        url = f'{base_url}/algorithms/{algo}/predictions?user_id={userId}&items={items}'\n",
    "    async with aiohttp.ClientSession() as session:\n",
    "        async with session.get(url) as resp:\n",
    "            data = await resp.json()\n",
    "#             recs.append({'user': userId, 'recs': data['recommendations'] if is_a_rec_request else data['predictions']})\n",
    "#             return recs"
   ]
  },
  {
   "cell_type": "code",
   "execution_count": 205,
   "metadata": {},
   "outputs": [
    {
     "name": "stdout",
     "output_type": "stream",
     "text": [
      "Predictions results\n",
      "Number of requests: 1000\n",
      "Total response time: 0:01:10.849874\n",
      "Average load time: 0:00:00.070850\n",
      "Requests per second: 14.114351141965333\n",
      "Peak response time: 0:00:00.250720\n"
     ]
    }
   ],
   "source": [
    "print('Predictions results')\n",
    "loop = asyncio.get_event_loop()\n",
    "await loop.create_task(get_preds())"
   ]
  },
  {
   "cell_type": "code",
   "execution_count": 206,
   "metadata": {},
   "outputs": [
    {
     "name": "stdout",
     "output_type": "stream",
     "text": [
      "Recomendation results\n",
      "Number of requests: 1000\n",
      "Total response time: 0:01:15.281620\n",
      "Average load time: 0:00:00.075282\n",
      "Requests per second: 13.283454845950445\n",
      "Peak response time: 0:00:00.242544\n"
     ]
    }
   ],
   "source": [
    "print('Recomendation results')\n",
    "loop = asyncio.get_event_loop()\n",
    "await loop.create_task(get_recs())"
   ]
  },
  {
   "cell_type": "code",
   "execution_count": null,
   "metadata": {},
   "outputs": [],
   "source": []
  },
  {
   "cell_type": "code",
   "execution_count": null,
   "metadata": {},
   "outputs": [],
   "source": []
  }
 ],
 "metadata": {
  "kernelspec": {
   "display_name": "Python 3",
   "language": "python",
   "name": "python3"
  },
  "language_info": {
   "codemirror_mode": {
    "name": "ipython",
    "version": 3
   },
   "file_extension": ".py",
   "mimetype": "text/x-python",
   "name": "python",
   "nbconvert_exporter": "python",
   "pygments_lexer": "ipython3",
   "version": "3.7.7"
  }
 },
 "nbformat": 4,
 "nbformat_minor": 4
}
