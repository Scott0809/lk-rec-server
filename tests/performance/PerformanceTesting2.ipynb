{
 "cells": [
  {
   "cell_type": "code",
   "execution_count": 6,
   "metadata": {},
   "outputs": [
    {
     "name": "stdout",
     "output_type": "stream",
     "text": [
      "Collecting nest_asyncio\n",
      "  Downloading https://files.pythonhosted.org/packages/a0/44/f2983c5be9803b08f89380229997e92c4bdd7a4a510ccee565b599d1bdc8/nest_asyncio-1.4.0-py3-none-any.whl\n",
      "Installing collected packages: nest-asyncio\n",
      "Successfully installed nest-asyncio-1.4.0\n",
      "Note: you may need to restart the kernel to use updated packages.\n"
     ]
    }
   ],
   "source": [
    "# %pip install aiohttp\n",
    "# %pip install mysql-connector-python\n",
    "%pip install nest_asyncio"
   ]
  },
  {
   "cell_type": "code",
   "execution_count": 7,
   "metadata": {},
   "outputs": [],
   "source": [
    "import asyncio\n",
    "import aiohttp\n",
    "import json\n",
    "import sqlite3\n",
    "from sqlalchemy import create_engine, MetaData, Table, Column, Integer, String\n",
    "import urllib\n",
    "from pandas.io import sql\n",
    "from datetime import datetime\n",
    "import numpy as np\n",
    "import requests\n",
    "from time import perf_counter \n",
    "import nest_asyncio\n",
    "nest_asyncio.apply()"
   ]
  },
  {
   "cell_type": "markdown",
   "metadata": {},
   "source": [
    "# Semaphore code example"
   ]
  },
  {
   "cell_type": "code",
   "execution_count": 13,
   "metadata": {},
   "outputs": [
    {
     "name": "stdout",
     "output_type": "stream",
     "text": [
      "downloading 0 will take 1 second(s)\n",
      "downloading 1 will take 2 second(s)\n",
      "downloading 2 will take 2 second(s)\n",
      "downloaded 0\n",
      "downloading 3 will take 1 second(s)\n",
      "downloaded 1\n",
      "downloaded 2\n",
      "downloading 4 will take 2 second(s)\n",
      "downloading 5 will take 1 second(s)\n",
      "downloaded 3\n",
      "downloading 6 will take 3 second(s)\n",
      "downloaded 5\n",
      "downloading 7 will take 2 second(s)\n",
      "downloaded 4\n",
      "downloading 8 will take 3 second(s)\n",
      "downloaded 6\n",
      "downloaded 7\n",
      "downloaded 8\n",
      "done\n"
     ]
    }
   ],
   "source": [
    "import asyncio\n",
    "from random import randint\n",
    "\n",
    "\n",
    "async def download(code):\n",
    "    wait_time = randint(1, 3)\n",
    "    print('downloading {} will take {} second(s)'.format(code, wait_time))\n",
    "    await asyncio.sleep(wait_time)  # I/O, context will switch to main function\n",
    "    print('downloaded {}'.format(code))\n",
    "\n",
    "\n",
    "sem = asyncio.Semaphore(3)\n",
    "\n",
    "\n",
    "async def safe_download(i):\n",
    "    async with sem:  # semaphore limits num of simultaneous downloads\n",
    "        return await download(i)\n",
    "\n",
    "\n",
    "async def main():\n",
    "    tasks = [\n",
    "        asyncio.ensure_future(safe_download(i))  # creating task starts coroutine\n",
    "        for i\n",
    "        in range(9)\n",
    "    ]\n",
    "    await asyncio.gather(*tasks)  # await moment all downloads done\n",
    "\n",
    "\n",
    "if __name__ ==  '__main__':\n",
    "    loop = asyncio.get_event_loop()\n",
    "    try:\n",
    "        future = asyncio.ensure_future(main())\n",
    "        loop.run_until_complete(future)\n",
    "    finally:\n",
    "        print(\"done\")\n",
    "#         loop.run_until_complete(loop.shutdown_asyncgens())\n",
    "#         loop.close()"
   ]
  },
  {
   "cell_type": "markdown",
   "metadata": {},
   "source": [
    "# Performance Testing"
   ]
  },
  {
   "cell_type": "code",
   "execution_count": 14,
   "metadata": {},
   "outputs": [],
   "source": [
    "class ConfigReader:\n",
    "    def get_value(self, key):\n",
    "        with open('config.json') as json_data_file:\n",
    "            data = json.load(json_data_file)\n",
    "        return data[key]"
   ]
  },
  {
   "cell_type": "code",
   "execution_count": 24,
   "metadata": {},
   "outputs": [],
   "source": [
    "class DbManager:\n",
    "    def __init__(self):\n",
    "        reader = ConfigReader()\n",
    "        db_connection = reader.get_value(\"db_connection\")        \n",
    "        self.conn_string = '{db_engine}{connector}://{user}:{password}@{server}/{database}'.format(\n",
    "            db_engine=db_connection['db_engine'],\n",
    "            connector=db_connection['connector'],\n",
    "            user=db_connection['user'],\n",
    "            password=db_connection['password'],\n",
    "            server=db_connection['server'],\n",
    "            database=db_connection['database'])\n",
    "\n",
    "    def get_users(self):\n",
    "        return sql.read_sql(\"SELECT distinct userId FROM ratings;\", create_engine(self.conn_string))"
   ]
  },
  {
   "cell_type": "markdown",
   "metadata": {},
   "source": [
    "## Get random users"
   ]
  },
  {
   "cell_type": "code",
   "execution_count": 25,
   "metadata": {},
   "outputs": [],
   "source": [
    "n_rand_users = 10\n",
    "dbManager = DbManager()\n",
    "db_users = dbManager.get_users()\n",
    "n_rand_users = db_users.sample(n=n_rand_users)"
   ]
  },
  {
   "cell_type": "markdown",
   "metadata": {},
   "source": [
    "## Test recommendation endpoint"
   ]
  },
  {
   "cell_type": "code",
   "execution_count": 26,
   "metadata": {},
   "outputs": [],
   "source": [
    "base_url = 'http://127.0.0.1:8000'\n",
    "algo_rec = 'popular'\n",
    "algo_pred = 'biasedmf' # 'biasedmf'\n",
    "n_recs = 5\n",
    "items = \"10,20,30,40,50\""
   ]
  },
  {
   "cell_type": "markdown",
   "metadata": {},
   "source": [
    "### Parallel performance with semaphore"
   ]
  },
  {
   "cell_type": "code",
   "execution_count": null,
   "metadata": {},
   "outputs": [],
   "source": []
  },
  {
   "cell_type": "code",
   "execution_count": null,
   "metadata": {},
   "outputs": [],
   "source": []
  },
  {
   "cell_type": "code",
   "execution_count": null,
   "metadata": {},
   "outputs": [],
   "source": []
  },
  {
   "cell_type": "markdown",
   "metadata": {},
   "source": [
    "### Parallel performance"
   ]
  },
  {
   "cell_type": "code",
   "execution_count": 27,
   "metadata": {},
   "outputs": [],
   "source": [
    "def print_stats(time_taken_all, num_requests):\n",
    "    print(f'Total response time: {time_taken_all}')\n",
    "    print(f'Throughput (requests per second): {num_requests / time_taken_all}')\n",
    "    \n",
    "async def get_recs():\n",
    "    tasks = []    \n",
    "    num_requests = len(n_rand_users)\n",
    "    print(f'Number of requests: {num_requests}')\n",
    "    start_recs = perf_counter()\n",
    "\n",
    "    async with aiohttp.ClientSession() as session:\n",
    "        for idx, row in n_rand_users.iterrows():\n",
    "            task = asyncio.ensure_future(get_user_results(row['userId'], n_recs, algo_rec, None, session))\n",
    "            tasks.append(task)     \n",
    "\n",
    "        responses = await asyncio.gather(*tasks)\n",
    "        time_taken_all = perf_counter() - start_recs\n",
    "        print_stats(time_taken_all, num_requests)\n",
    "\n",
    "async def get_preds():\n",
    "    tasks = []    \n",
    "    num_requests = len(n_rand_users)\n",
    "    print(f'Number of requests: {num_requests}')\n",
    "    start_preds = perf_counter()\n",
    "\n",
    "    async with aiohttp.ClientSession() as session:\n",
    "        for idx, row in n_rand_users.iterrows():\n",
    "            task = asyncio.ensure_future(get_user_results(row['userId'], None, algo_pred, items, session))\n",
    "            tasks.append(task)         \n",
    "\n",
    "        responses = await asyncio.gather(*tasks)\n",
    "        time_taken_all = perf_counter() - start_preds\n",
    "        print_stats(time_taken_all, num_requests)\n",
    "\n",
    "async def get_user_results(userId, nr_recs, algo, items, session):\n",
    "    is_a_rec_request = True if algo == 'popular' or algo == 'topn' else False\n",
    "    if is_a_rec_request:\n",
    "        url = f'{base_url}/algorithms/{algo}/recommendations?user_id={userId}&num_recs={nr_recs}'\n",
    "    else:\n",
    "        url = f'{base_url}/algorithms/{algo}/predictions?user_id={userId}&items={items}'\n",
    "    async with session.get(url) as resp:\n",
    "        data = await resp.json()\n",
    "        #data = resp.json()"
   ]
  },
  {
   "cell_type": "code",
   "execution_count": null,
   "metadata": {
    "scrolled": true
   },
   "outputs": [],
   "source": []
  },
  {
   "cell_type": "code",
   "execution_count": null,
   "metadata": {},
   "outputs": [],
   "source": []
  },
  {
   "cell_type": "markdown",
   "metadata": {},
   "source": [
    "### Single thread performance"
   ]
  },
  {
   "cell_type": "code",
   "execution_count": 28,
   "metadata": {},
   "outputs": [],
   "source": [
    "def print_stats_single_thread(times, time_taken_all, num_requests):\n",
    "    print(f'Total response time: {time_taken_all}')\n",
    "    print(f'Throughput (requests per second): {num_requests / time_taken_all}')\n",
    "    \n",
    "def get_recs_single_thread():\n",
    "    times = []\n",
    "    num_requests = len(n_rand_users)\n",
    "    print(f'Number of requests: {num_requests}')\n",
    "    start_recs = perf_counter()\n",
    "    for idx, row in n_rand_users.iterrows():\n",
    "        start = perf_counter()\n",
    "        get_user_results_single_thread(row['userId'], n_recs, algo_rec, None)\n",
    "        time_taken = perf_counter() - start\n",
    "        times.append(time_taken)\n",
    "#        print(f'Response time: {time_taken}')\n",
    "    time_taken_all = perf_counter() - start_recs\n",
    "    print_stats_single_thread(times, time_taken_all, num_requests)\n",
    "\n",
    "def get_preds_single_thread():\n",
    "    times = []\n",
    "    start_preds = perf_counter()\n",
    "    num_requests = len(n_rand_users)\n",
    "    print(f'Number of requests: {num_requests}')    \n",
    "    for idx, row in n_rand_users.iterrows():\n",
    "        start = perf_counter()\n",
    "        get_user_results_single_thread(row['userId'], None, algo_pred, items)\n",
    "        time_taken = perf_counter() - start\n",
    "        times.append(time_taken)\n",
    "#        print(f'Response time: {time_taken}')\n",
    "    time_taken_all = perf_counter() - start_preds\n",
    "    print_stats_single_thread(times, time_taken_all, num_requests)\n",
    "    \n",
    "def get_user_results_single_thread(userId, nr_recs, algo, items):\n",
    "    is_a_rec_request = True if algo == 'popular' or algo == 'topn' else False\n",
    "    if is_a_rec_request:\n",
    "        url = f'{base_url}/algorithms/{algo}/recommendations?user_id={userId}&num_recs={nr_recs}'\n",
    "    else:\n",
    "        url = f'{base_url}/algorithms/{algo}/predictions?user_id={userId}&items={items}'\n",
    "\n",
    "    r = requests.get(url)\n",
    "    data = r.json()"
   ]
  },
  {
   "cell_type": "code",
   "execution_count": 31,
   "metadata": {},
   "outputs": [
    {
     "name": "stdout",
     "output_type": "stream",
     "text": [
      "-------------------------------------\n",
      "Predictions results\n",
      "Number of requests: 10\n",
      "Total response time: 0.38597445599998537\n",
      "Throughput (requests per second): 25.9084502731973\n",
      "-------------------------------------\n",
      "Predictions results in single thread\n",
      "Number of requests: 10\n",
      "Total response time: 0.09544832000005954\n",
      "Throughput (requests per second): 104.76873767913109\n"
     ]
    }
   ],
   "source": [
    "print('-------------------------------------')\n",
    "print('Predictions results')\n",
    "loop = asyncio.get_event_loop()\n",
    "future = asyncio.ensure_future(get_preds())\n",
    "loop.run_until_complete(future)\n",
    "\n",
    "print('-------------------------------------')\n",
    "print('Predictions results in single thread')\n",
    "get_preds_single_thread()"
   ]
  },
  {
   "cell_type": "code",
   "execution_count": 30,
   "metadata": {},
   "outputs": [],
   "source": [
    "# print('-------------------------------------')\n",
    "# print('Recomendation results')\n",
    "# loop = asyncio.get_event_loop()\n",
    "# loop.run_until_complete(get_recs())\n",
    "# loop.close()\n",
    "\n",
    "# print('-------------------------------------')\n",
    "# print('Recommendations results in single thread')\n",
    "# get_recs_single_thread()"
   ]
  },
  {
   "cell_type": "code",
   "execution_count": null,
   "metadata": {},
   "outputs": [],
   "source": []
  }
 ],
 "metadata": {
  "kernelspec": {
   "display_name": "Python 3",
   "language": "python",
   "name": "python3"
  },
  "language_info": {
   "codemirror_mode": {
    "name": "ipython",
    "version": 3
   },
   "file_extension": ".py",
   "mimetype": "text/x-python",
   "name": "python",
   "nbconvert_exporter": "python",
   "pygments_lexer": "ipython3",
   "version": "3.7.3"
  }
 },
 "nbformat": 4,
 "nbformat_minor": 4
}
