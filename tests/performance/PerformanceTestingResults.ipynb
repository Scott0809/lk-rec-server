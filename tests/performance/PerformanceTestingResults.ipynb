{
 "cells": [
  {
   "cell_type": "markdown",
   "metadata": {},
   "source": [
    "# Performance testing results\n",
    "\n",
    "We provide benchmarks for the prediction and recommendation endpoints for different algorithms using our reference machine of four workers sending 1000 requests to the recommendation server. The results for each algorithm are detailed below."
   ]
  },
  {
   "cell_type": "markdown",
   "metadata": {},
   "source": [
    "## Setup"
   ]
  },
  {
   "cell_type": "code",
   "execution_count": 17,
   "metadata": {},
   "outputs": [],
   "source": [
    "import json\n",
    "import pickle\n",
    "import numpy as np\n",
    "import matplotlib.pyplot as plt"
   ]
  },
  {
   "cell_type": "code",
   "execution_count": 7,
   "metadata": {},
   "outputs": [],
   "source": [
    "class ConfigReader:\n",
    "    def get_value(self, key):\n",
    "        with open('config.json') as json_data_file:\n",
    "            data = json.load(json_data_file)\n",
    "        return data[key]"
   ]
  },
  {
   "cell_type": "code",
   "execution_count": 14,
   "metadata": {},
   "outputs": [],
   "source": [
    "results_folder = \"results/\"\n",
    "\n",
    "def print_stats_from_file(file_name):\n",
    "    obj = pickle.load(open(results_folder + file_name, \"rb\"))  \n",
    "    times = obj['times']\n",
    "    time_taken_all = obj['time_taken_all']\n",
    "    num_requests = obj['num_requests']\n",
    "    print(f'Number of requests: {num_requests}')    \n",
    "    print(f'Total response time: {round(time_taken_all, 3)}')\n",
    "    print(f'Throughput (requests per second): {round(num_requests / time_taken_all, 3)}')\n",
    "    print(f'Peak response time: {round(max(times), 3)}')\n",
    "    print(f'Mean response time: {round(np.mean(times), 3)}')\n",
    "    print(f'99 percentile: {round(np.quantile(times, 0.99), 3)}')    \n",
    "    \n",
    "def plot_numbers(file_name):\n",
    "    obj = pickle.load(open(results_folder + file_name, \"rb\"))\n",
    "    resp_time_per_request = obj['times']\n",
    "    plt.plot(resp_time_per_request)\n",
    "    plt.show()\n",
    "    \n",
    "def hist_numbers(file_name):\n",
    "    obj = pickle.load(open(results_folder + file_name, \"rb\"))    \n",
    "    resp_time_per_request = obj['times']\n",
    "    plt.hist(resp_time_per_request, bins='auto')\n",
    "    plt.show()"
   ]
  },
  {
   "cell_type": "markdown",
   "metadata": {},
   "source": [
    "## Show results"
   ]
  },
  {
   "cell_type": "markdown",
   "metadata": {},
   "source": [
    "### Get config values"
   ]
  },
  {
   "cell_type": "code",
   "execution_count": 8,
   "metadata": {},
   "outputs": [],
   "source": [
    "reader = ConfigReader()\n",
    "n_rand_users = num_requests = reader.get_value(\"num_requests\")\n",
    "base_url = reader.get_value(\"rec_server_base_url\")\n",
    "n_recs = reader.get_value(\"n_recs\")\n",
    "items = reader.get_value(\"items\")\n",
    "pred_algos = reader.get_value(\"pred_algos\")\n",
    "rec_algos = reader.get_value(\"rec_algos\")\n",
    "lk_recserver_algos = reader.get_value('lk_recserver_algos')\n",
    "linear_speedup_algos = reader.get_value(\"linear_speedup_algos\")\n",
    "workers_config = reader.get_value(\"workers_config\")"
   ]
  },
  {
   "cell_type": "markdown",
   "metadata": {},
   "source": [
    "### Predict and recommend endpoints from server for canonical config"
   ]
  },
  {
   "cell_type": "markdown",
   "metadata": {},
   "source": [
    "#### Predictions for different algorithms"
   ]
  },
  {
   "cell_type": "code",
   "execution_count": 18,
   "metadata": {
    "scrolled": false
   },
   "outputs": [
    {
     "name": "stdout",
     "output_type": "stream",
     "text": [
      "Algorithm: bias\n",
      "Number of requests: 1000\n",
      "Total response time: 9.496\n",
      "Throughput (requests per second): 105.305\n",
      "Peak response time: 0.097\n",
      "Mean response time: 0.075\n",
      "99 percentile: 0.091\n"
     ]
    },
    {
     "data": {
      "image/png": "[encoded data removed]",
      "text/plain": [
       "<Figure size 432x288 with 1 Axes>"
      ]
     },
     "metadata": {
      "needs_background": "light"
     },
     "output_type": "display_data"
    },
    {
     "name": "stdout",
     "output_type": "stream",
     "text": [
      "---------------------\n",
      "\n",
      "Algorithm: itemitem\n",
      "Number of requests: 1000\n",
      "Total response time: 66.933\n",
      "Throughput (requests per second): 14.94\n",
      "Peak response time: 11.323\n",
      "Mean response time: 0.534\n",
      "99 percentile: 2.614\n"
     ]
    },
    {
     "data": {
      "image/png": "[encoded data removed]",
      "text/plain": [
       "<Figure size 432x288 with 1 Axes>"
      ]
     },
     "metadata": {
      "needs_background": "light"
     },
     "output_type": "display_data"
    },
    {
     "name": "stdout",
     "output_type": "stream",
     "text": [
      "---------------------\n",
      "\n",
      "Algorithm: useruser\n",
      "Number of requests: 1000\n",
      "Total response time: 25.493\n",
      "Throughput (requests per second): 39.227\n",
      "Peak response time: 0.245\n",
      "Mean response time: 0.203\n",
      "99 percentile: 0.232\n"
     ]
    },
    {
     "data": {
      "image/png": "[encoded data removed]",
      "text/plain": [
       "<Figure size 432x288 with 1 Axes>"
      ]
     },
     "metadata": {
      "needs_background": "light"
     },
     "output_type": "display_data"
    },
    {
     "name": "stdout",
     "output_type": "stream",
     "text": [
      "---------------------\n",
      "\n",
      "Algorithm: biasedmf\n",
      "Number of requests: 1000\n",
      "Total response time: 9.438\n",
      "Throughput (requests per second): 105.954\n",
      "Peak response time: 0.302\n",
      "Mean response time: 0.075\n",
      "99 percentile: 0.095\n"
     ]
    },
    {
     "data": {
      "image/png": "[encoded data removed]",
      "text/plain": [
       "<Figure size 432x288 with 1 Axes>"
      ]
     },
     "metadata": {
      "needs_background": "light"
     },
     "output_type": "display_data"
    },
    {
     "name": "stdout",
     "output_type": "stream",
     "text": [
      "---------------------\n",
      "\n",
      "Algorithm: implicitmf\n",
      "Number of requests: 1000\n",
      "Total response time: 9.341\n",
      "Throughput (requests per second): 107.054\n",
      "Peak response time: 0.096\n",
      "Mean response time: 0.074\n",
      "99 percentile: 0.09\n"
     ]
    },
    {
     "data": {
      "image/png": "[encoded data removed]",
      "text/plain": [
       "<Figure size 432x288 with 1 Axes>"
      ]
     },
     "metadata": {
      "needs_background": "light"
     },
     "output_type": "display_data"
    },
    {
     "name": "stdout",
     "output_type": "stream",
     "text": [
      "---------------------\n",
      "\n",
      "Algorithm: funksvd\n",
      "Number of requests: 1000\n",
      "Total response time: 9.357\n",
      "Throughput (requests per second): 106.869\n",
      "Peak response time: 0.098\n",
      "Mean response time: 0.074\n",
      "99 percentile: 0.091\n"
     ]
    },
    {
     "data": {
      "image/png": "[encoded data removed]",
      "text/plain": [
       "<Figure size 432x288 with 1 Axes>"
      ]
     },
     "metadata": {
      "needs_background": "light"
     },
     "output_type": "display_data"
    },
    {
     "name": "stdout",
     "output_type": "stream",
     "text": [
      "---------------------\n",
      "\n",
      "Algorithm: tf_bpr\n",
      "Number of requests: 1000\n",
      "Total response time: 21.599\n",
      "Throughput (requests per second): 46.298\n",
      "Peak response time: 0.335\n",
      "Mean response time: 0.172\n",
      "99 percentile: 0.209\n"
     ]
    },
    {
     "data": {
      "image/png": "[encoded data removed]",
      "text/plain": [
       "<Figure size 432x288 with 1 Axes>"
      ]
     },
     "metadata": {
      "needs_background": "light"
     },
     "output_type": "display_data"
    },
    {
     "name": "stdout",
     "output_type": "stream",
     "text": [
      "---------------------\n",
      "\n"
     ]
    }
   ],
   "source": [
    "for algo in pred_algos:\n",
    "    print(f'Algorithm: {algo}')\n",
    "    file_name = f'preds_{algo}_workers_4_num_req_{num_requests}.pickle'  \n",
    "    print_stats_from_file(file_name)\n",
    "    hist_numbers(file_name)\n",
    "    print('---------------------')\n",
    "    print('')"
   ]
  },
  {
   "cell_type": "markdown",
   "metadata": {},
   "source": [
    "#### Recommendations"
   ]
  },
  {
   "cell_type": "code",
   "execution_count": 19,
   "metadata": {
    "scrolled": false
   },
   "outputs": [
    {
     "name": "stdout",
     "output_type": "stream",
     "text": [
      "Algorithm: popular\n",
      "Number of requests: 1000\n",
      "Total response time: 0.954\n",
      "Throughput (requests per second): 1048.001\n",
      "Peak response time: 0.074\n",
      "Mean response time: 0.007\n",
      "99 percentile: 0.008\n"
     ]
    },
    {
     "data": {
      "image/png": "[encoded data removed]",
      "text/plain": [
       "<Figure size 432x288 with 1 Axes>"
      ]
     },
     "metadata": {
      "needs_background": "light"
     },
     "output_type": "display_data"
    },
    {
     "name": "stdout",
     "output_type": "stream",
     "text": [
      "---------------------\n",
      "\n"
     ]
    }
   ],
   "source": [
    "for algo_rec in rec_algos:\n",
    "    print(f'Algorithm: {algo_rec}')\n",
    "    file_name = f'recs_{algo_rec}_workers_4_num_req_{num_requests}.pickle'\n",
    "    print_stats_from_file(file_name)\n",
    "    hist_numbers(file_name)\n",
    "    print('---------------------')\n",
    "    print('')"
   ]
  },
  {
   "cell_type": "markdown",
   "metadata": {},
   "source": [
    "### Lenskit"
   ]
  },
  {
   "cell_type": "code",
   "execution_count": 26,
   "metadata": {
    "scrolled": false
   },
   "outputs": [
    {
     "name": "stdout",
     "output_type": "stream",
     "text": [
      "Algo: bias\n",
      "------------------\n",
      "Lenskit performance:\n",
      "Number of requests: 1000\n",
      "Total response time: 0.56\n",
      "Throughput (requests per second): 1786.832\n",
      "Peak response time: 0.007\n",
      "Mean response time: 0.0\n",
      "99 percentile: 0.001\n"
     ]
    },
    {
     "data": {
      "image/png": "[encoded data removed]",
      "text/plain": [
       "<Figure size 432x288 with 1 Axes>"
      ]
     },
     "metadata": {
      "needs_background": "light"
     },
     "output_type": "display_data"
    },
    {
     "name": "stdout",
     "output_type": "stream",
     "text": [
      "------------------\n",
      "Recommendation server performance:\n",
      "Number of requests: 1000\n",
      "Total response time: 9.796\n",
      "Throughput (requests per second): 102.087\n",
      "Peak response time: 0.161\n",
      "Mean response time: 0.078\n",
      "99 percentile: 0.108\n"
     ]
    },
    {
     "data": {
      "image/png": "[encoded data removed]",
      "text/plain": [
       "<Figure size 432x288 with 1 Axes>"
      ]
     },
     "metadata": {
      "needs_background": "light"
     },
     "output_type": "display_data"
    },
    {
     "name": "stdout",
     "output_type": "stream",
     "text": [
      "*******************************************************\n",
      "Algo: biasedmf\n",
      "------------------\n",
      "Lenskit performance:\n",
      "Number of requests: 1000\n",
      "Total response time: 0.411\n",
      "Throughput (requests per second): 2434.898\n",
      "Peak response time: 0.006\n",
      "Mean response time: 0.0\n",
      "99 percentile: 0.0\n"
     ]
    },
    {
     "data": {
      "image/png": "[encoded data removed]",
      "text/plain": [
       "<Figure size 432x288 with 1 Axes>"
      ]
     },
     "metadata": {
      "needs_background": "light"
     },
     "output_type": "display_data"
    },
    {
     "name": "stdout",
     "output_type": "stream",
     "text": [
      "------------------\n",
      "Recommendation server performance:\n",
      "Number of requests: 1000\n",
      "Total response time: 10.431\n",
      "Throughput (requests per second): 95.865\n",
      "Peak response time: 0.832\n",
      "Mean response time: 0.083\n",
      "99 percentile: 0.133\n"
     ]
    },
    {
     "data": {
      "image/png": "[encoded data removed]",
      "text/plain": [
       "<Figure size 432x288 with 1 Axes>"
      ]
     },
     "metadata": {
      "needs_background": "light"
     },
     "output_type": "display_data"
    },
    {
     "name": "stdout",
     "output_type": "stream",
     "text": [
      "*******************************************************\n",
      "Algo: itemitem\n",
      "------------------\n",
      "Lenskit performance:\n",
      "Number of requests: 1000\n",
      "Total response time: 114.358\n",
      "Throughput (requests per second): 8.744\n",
      "Peak response time: 1.874\n",
      "Mean response time: 0.114\n",
      "99 percentile: 0.783\n"
     ]
    },
    {
     "data": {
      "image/png": "[encoded data removed]",
      "text/plain": [
       "<Figure size 432x288 with 1 Axes>"
      ]
     },
     "metadata": {
      "needs_background": "light"
     },
     "output_type": "display_data"
    },
    {
     "name": "stdout",
     "output_type": "stream",
     "text": [
      "------------------\n",
      "Recommendation server performance:\n",
      "Number of requests: 1000\n",
      "Total response time: 163.077\n",
      "Throughput (requests per second): 6.132\n",
      "Peak response time: 47.795\n",
      "Mean response time: 1.297\n",
      "99 percentile: 14.543\n"
     ]
    },
    {
     "data": {
      "image/png": "[encoded data removed]",
      "text/plain": [
       "<Figure size 432x288 with 1 Axes>"
      ]
     },
     "metadata": {
      "needs_background": "light"
     },
     "output_type": "display_data"
    },
    {
     "name": "stdout",
     "output_type": "stream",
     "text": [
      "*******************************************************\n",
      "Algo: tf_bpr\n",
      "------------------\n",
      "Lenskit performance:\n",
      "Number of requests: 1000\n",
      "Total response time: 29.884\n",
      "Throughput (requests per second): 33.463\n",
      "Peak response time: 2.477\n",
      "Mean response time: 0.03\n",
      "99 percentile: 0.033\n"
     ]
    },
    {
     "data": {
      "image/png": "[encoded data removed]",
      "text/plain": [
       "<Figure size 432x288 with 1 Axes>"
      ]
     },
     "metadata": {
      "needs_background": "light"
     },
     "output_type": "display_data"
    },
    {
     "name": "stdout",
     "output_type": "stream",
     "text": [
      "------------------\n",
      "Recommendation server performance:\n",
      "Number of requests: 1000\n",
      "Total response time: 26.769\n",
      "Throughput (requests per second): 37.356\n",
      "Peak response time: 4.912\n",
      "Mean response time: 0.213\n",
      "99 percentile: 0.312\n"
     ]
    },
    {
     "data": {
      "image/png": "[encoded data removed]",
      "text/plain": [
       "<Figure size 432x288 with 1 Axes>"
      ]
     },
     "metadata": {
      "needs_background": "light"
     },
     "output_type": "display_data"
    },
    {
     "name": "stdout",
     "output_type": "stream",
     "text": [
      "*******************************************************\n"
     ]
    }
   ],
   "source": [
    "for lk_recserver_algo in lk_recserver_algos:\n",
    "    print(f'Algo: {lk_recserver_algo}')\n",
    "    print('------------------')    \n",
    "    print('Lenskit performance:')\n",
    "    file_name = f'lkpy_{lk_recserver_algo}_num_req_{num_requests}.pickle'    \n",
    "    print_stats_from_file(file_name)\n",
    "    hist_numbers(file_name)\n",
    "    print('------------------')    \n",
    "    print('Recommendation server performance:')\n",
    "    file_name = f'preds_{lk_recserver_algo}_against_lkpy_workers_4_num_req_{num_requests}.pickle'\n",
    "    print_stats_from_file(file_name)\n",
    "    hist_numbers(file_name)\n",
    "    print('*******************************************************')    "
   ]
  },
  {
   "cell_type": "markdown",
   "metadata": {},
   "source": [
    "### Speedup Tests"
   ]
  },
  {
   "cell_type": "markdown",
   "metadata": {},
   "source": [
    "#### Throughput by number of workers"
   ]
  },
  {
   "cell_type": "code",
   "execution_count": 25,
   "metadata": {},
   "outputs": [
    {
     "name": "stdout",
     "output_type": "stream",
     "text": [
      "Algo: biasedmf\n"
     ]
    },
    {
     "data": {
      "image/png": "[encoded data removed]",
      "text/plain": [
       "<Figure size 432x288 with 1 Axes>"
      ]
     },
     "metadata": {
      "needs_background": "light"
     },
     "output_type": "display_data"
    },
    {
     "name": "stdout",
     "output_type": "stream",
     "text": [
      "*******************************************************\n",
      "Algo: itemitem\n"
     ]
    },
    {
     "data": {
      "image/png": "[encoded data removed]",
      "text/plain": [
       "<Figure size 432x288 with 1 Axes>"
      ]
     },
     "metadata": {
      "needs_background": "light"
     },
     "output_type": "display_data"
    },
    {
     "name": "stdout",
     "output_type": "stream",
     "text": [
      "*******************************************************\n",
      "Algo: tf_bpr\n"
     ]
    },
    {
     "data": {
      "image/png": "[encoded data removed]",
      "text/plain": [
       "<Figure size 432x288 with 1 Axes>"
      ]
     },
     "metadata": {
      "needs_background": "light"
     },
     "output_type": "display_data"
    },
    {
     "name": "stdout",
     "output_type": "stream",
     "text": [
      "*******************************************************\n"
     ]
    }
   ],
   "source": [
    "for algo in linear_speedup_algos:\n",
    "    print(f'Algo: {algo}')    \n",
    "    throughput_file_name_workers = f'{results_folder}throughput_single_multiple_workers_algo_{algo}.csv'\n",
    "    throughputs_workers_from_file = np.genfromtxt(throughput_file_name_workers, delimiter=',')\n",
    "    y_pos = np.arange(len(throughputs_workers_from_file))\n",
    "\n",
    "    plt.bar(y_pos, throughputs_workers_from_file, align='center', alpha=0.5)\n",
    "    plt.xticks(y_pos, workers_config)\n",
    "    plt.ylabel('Throughput')\n",
    "    plt.title('Throughput by workers')\n",
    "\n",
    "    plt.show()\n",
    "    print('*******************************************************')\n",
    "    "
   ]
  },
  {
   "cell_type": "code",
   "execution_count": null,
   "metadata": {},
   "outputs": [],
   "source": []
  }
 ],
 "metadata": {
  "kernelspec": {
   "display_name": "Python 3",
   "language": "python",
   "name": "python3"
  },
  "language_info": {
   "codemirror_mode": {
    "name": "ipython",
    "version": 3
   },
   "file_extension": ".py",
   "mimetype": "text/x-python",
   "name": "python",
   "nbconvert_exporter": "python",
   "pygments_lexer": "ipython3",
   "version": "3.7.7"
  }
 },
 "nbformat": 4,
 "nbformat_minor": 4
}
